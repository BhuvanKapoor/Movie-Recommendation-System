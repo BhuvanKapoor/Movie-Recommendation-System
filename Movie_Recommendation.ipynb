{
 "cells": [
  {
   "cell_type": "markdown",
   "id": "a327800f",
   "metadata": {},
   "source": [
    "## Movie Recommendation System"
   ]
  },
  {
   "cell_type": "markdown",
   "id": "da5da113",
   "metadata": {},
   "source": [
    "##### Importing necessary libraries"
   ]
  },
  {
   "cell_type": "code",
   "execution_count": 1,
   "id": "e4e32470",
   "metadata": {},
   "outputs": [],
   "source": [
    "import pandas as pd\n",
    "import difflib\n",
    "from sklearn.feature_extraction.text import TfidfVectorizer\n",
    "from sklearn.metrics.pairwise import cosine_similarity"
   ]
  },
  {
   "cell_type": "markdown",
   "id": "dd44d0c8",
   "metadata": {},
   "source": [
    "##### Importing the dataset"
   ]
  },
  {
   "cell_type": "code",
   "execution_count": 2,
   "id": "0273edda",
   "metadata": {},
   "outputs": [
    {
     "data": {
      "text/html": [
       "<div>\n",
       "<style scoped>\n",
       "    .dataframe tbody tr th:only-of-type {\n",
       "        vertical-align: middle;\n",
       "    }\n",
       "\n",
       "    .dataframe tbody tr th {\n",
       "        vertical-align: top;\n",
       "    }\n",
       "\n",
       "    .dataframe thead th {\n",
       "        text-align: right;\n",
       "    }\n",
       "</style>\n",
       "<table border=\"1\" class=\"dataframe\">\n",
       "  <thead>\n",
       "    <tr style=\"text-align: right;\">\n",
       "      <th></th>\n",
       "      <th>index</th>\n",
       "      <th>budget</th>\n",
       "      <th>genres</th>\n",
       "      <th>homepage</th>\n",
       "      <th>id</th>\n",
       "      <th>keywords</th>\n",
       "      <th>original_language</th>\n",
       "      <th>original_title</th>\n",
       "      <th>overview</th>\n",
       "      <th>popularity</th>\n",
       "      <th>...</th>\n",
       "      <th>runtime</th>\n",
       "      <th>spoken_languages</th>\n",
       "      <th>status</th>\n",
       "      <th>tagline</th>\n",
       "      <th>title</th>\n",
       "      <th>vote_average</th>\n",
       "      <th>vote_count</th>\n",
       "      <th>cast</th>\n",
       "      <th>crew</th>\n",
       "      <th>director</th>\n",
       "    </tr>\n",
       "  </thead>\n",
       "  <tbody>\n",
       "    <tr>\n",
       "      <th>0</th>\n",
       "      <td>0</td>\n",
       "      <td>237000000</td>\n",
       "      <td>Action Adventure Fantasy Science Fiction</td>\n",
       "      <td>http://www.avatarmovie.com/</td>\n",
       "      <td>19995</td>\n",
       "      <td>culture clash future space war space colony so...</td>\n",
       "      <td>en</td>\n",
       "      <td>Avatar</td>\n",
       "      <td>In the 22nd century, a paraplegic Marine is di...</td>\n",
       "      <td>150.437577</td>\n",
       "      <td>...</td>\n",
       "      <td>162.0</td>\n",
       "      <td>[{\"iso_639_1\": \"en\", \"name\": \"English\"}, {\"iso...</td>\n",
       "      <td>Released</td>\n",
       "      <td>Enter the World of Pandora.</td>\n",
       "      <td>Avatar</td>\n",
       "      <td>7.2</td>\n",
       "      <td>11800</td>\n",
       "      <td>Sam Worthington Zoe Saldana Sigourney Weaver S...</td>\n",
       "      <td>[{'name': 'Stephen E. Rivkin', 'gender': 0, 'd...</td>\n",
       "      <td>James Cameron</td>\n",
       "    </tr>\n",
       "    <tr>\n",
       "      <th>1</th>\n",
       "      <td>1</td>\n",
       "      <td>300000000</td>\n",
       "      <td>Adventure Fantasy Action</td>\n",
       "      <td>http://disney.go.com/disneypictures/pirates/</td>\n",
       "      <td>285</td>\n",
       "      <td>ocean drug abuse exotic island east india trad...</td>\n",
       "      <td>en</td>\n",
       "      <td>Pirates of the Caribbean: At World's End</td>\n",
       "      <td>Captain Barbossa, long believed to be dead, ha...</td>\n",
       "      <td>139.082615</td>\n",
       "      <td>...</td>\n",
       "      <td>169.0</td>\n",
       "      <td>[{\"iso_639_1\": \"en\", \"name\": \"English\"}]</td>\n",
       "      <td>Released</td>\n",
       "      <td>At the end of the world, the adventure begins.</td>\n",
       "      <td>Pirates of the Caribbean: At World's End</td>\n",
       "      <td>6.9</td>\n",
       "      <td>4500</td>\n",
       "      <td>Johnny Depp Orlando Bloom Keira Knightley Stel...</td>\n",
       "      <td>[{'name': 'Dariusz Wolski', 'gender': 2, 'depa...</td>\n",
       "      <td>Gore Verbinski</td>\n",
       "    </tr>\n",
       "    <tr>\n",
       "      <th>2</th>\n",
       "      <td>2</td>\n",
       "      <td>245000000</td>\n",
       "      <td>Action Adventure Crime</td>\n",
       "      <td>http://www.sonypictures.com/movies/spectre/</td>\n",
       "      <td>206647</td>\n",
       "      <td>spy based on novel secret agent sequel mi6</td>\n",
       "      <td>en</td>\n",
       "      <td>Spectre</td>\n",
       "      <td>A cryptic message from Bond’s past sends him o...</td>\n",
       "      <td>107.376788</td>\n",
       "      <td>...</td>\n",
       "      <td>148.0</td>\n",
       "      <td>[{\"iso_639_1\": \"fr\", \"name\": \"Fran\\u00e7ais\"},...</td>\n",
       "      <td>Released</td>\n",
       "      <td>A Plan No One Escapes</td>\n",
       "      <td>Spectre</td>\n",
       "      <td>6.3</td>\n",
       "      <td>4466</td>\n",
       "      <td>Daniel Craig Christoph Waltz L\\u00e9a Seydoux ...</td>\n",
       "      <td>[{'name': 'Thomas Newman', 'gender': 2, 'depar...</td>\n",
       "      <td>Sam Mendes</td>\n",
       "    </tr>\n",
       "    <tr>\n",
       "      <th>3</th>\n",
       "      <td>3</td>\n",
       "      <td>250000000</td>\n",
       "      <td>Action Crime Drama Thriller</td>\n",
       "      <td>http://www.thedarkknightrises.com/</td>\n",
       "      <td>49026</td>\n",
       "      <td>dc comics crime fighter terrorist secret ident...</td>\n",
       "      <td>en</td>\n",
       "      <td>The Dark Knight Rises</td>\n",
       "      <td>Following the death of District Attorney Harve...</td>\n",
       "      <td>112.312950</td>\n",
       "      <td>...</td>\n",
       "      <td>165.0</td>\n",
       "      <td>[{\"iso_639_1\": \"en\", \"name\": \"English\"}]</td>\n",
       "      <td>Released</td>\n",
       "      <td>The Legend Ends</td>\n",
       "      <td>The Dark Knight Rises</td>\n",
       "      <td>7.6</td>\n",
       "      <td>9106</td>\n",
       "      <td>Christian Bale Michael Caine Gary Oldman Anne ...</td>\n",
       "      <td>[{'name': 'Hans Zimmer', 'gender': 2, 'departm...</td>\n",
       "      <td>Christopher Nolan</td>\n",
       "    </tr>\n",
       "    <tr>\n",
       "      <th>4</th>\n",
       "      <td>4</td>\n",
       "      <td>260000000</td>\n",
       "      <td>Action Adventure Science Fiction</td>\n",
       "      <td>http://movies.disney.com/john-carter</td>\n",
       "      <td>49529</td>\n",
       "      <td>based on novel mars medallion space travel pri...</td>\n",
       "      <td>en</td>\n",
       "      <td>John Carter</td>\n",
       "      <td>John Carter is a war-weary, former military ca...</td>\n",
       "      <td>43.926995</td>\n",
       "      <td>...</td>\n",
       "      <td>132.0</td>\n",
       "      <td>[{\"iso_639_1\": \"en\", \"name\": \"English\"}]</td>\n",
       "      <td>Released</td>\n",
       "      <td>Lost in our world, found in another.</td>\n",
       "      <td>John Carter</td>\n",
       "      <td>6.1</td>\n",
       "      <td>2124</td>\n",
       "      <td>Taylor Kitsch Lynn Collins Samantha Morton Wil...</td>\n",
       "      <td>[{'name': 'Andrew Stanton', 'gender': 2, 'depa...</td>\n",
       "      <td>Andrew Stanton</td>\n",
       "    </tr>\n",
       "  </tbody>\n",
       "</table>\n",
       "<p>5 rows × 24 columns</p>\n",
       "</div>"
      ],
      "text/plain": [
       "   index     budget                                    genres  \\\n",
       "0      0  237000000  Action Adventure Fantasy Science Fiction   \n",
       "1      1  300000000                  Adventure Fantasy Action   \n",
       "2      2  245000000                    Action Adventure Crime   \n",
       "3      3  250000000               Action Crime Drama Thriller   \n",
       "4      4  260000000          Action Adventure Science Fiction   \n",
       "\n",
       "                                       homepage      id  \\\n",
       "0                   http://www.avatarmovie.com/   19995   \n",
       "1  http://disney.go.com/disneypictures/pirates/     285   \n",
       "2   http://www.sonypictures.com/movies/spectre/  206647   \n",
       "3            http://www.thedarkknightrises.com/   49026   \n",
       "4          http://movies.disney.com/john-carter   49529   \n",
       "\n",
       "                                            keywords original_language  \\\n",
       "0  culture clash future space war space colony so...                en   \n",
       "1  ocean drug abuse exotic island east india trad...                en   \n",
       "2         spy based on novel secret agent sequel mi6                en   \n",
       "3  dc comics crime fighter terrorist secret ident...                en   \n",
       "4  based on novel mars medallion space travel pri...                en   \n",
       "\n",
       "                             original_title  \\\n",
       "0                                    Avatar   \n",
       "1  Pirates of the Caribbean: At World's End   \n",
       "2                                   Spectre   \n",
       "3                     The Dark Knight Rises   \n",
       "4                               John Carter   \n",
       "\n",
       "                                            overview  popularity  ... runtime  \\\n",
       "0  In the 22nd century, a paraplegic Marine is di...  150.437577  ...   162.0   \n",
       "1  Captain Barbossa, long believed to be dead, ha...  139.082615  ...   169.0   \n",
       "2  A cryptic message from Bond’s past sends him o...  107.376788  ...   148.0   \n",
       "3  Following the death of District Attorney Harve...  112.312950  ...   165.0   \n",
       "4  John Carter is a war-weary, former military ca...   43.926995  ...   132.0   \n",
       "\n",
       "                                    spoken_languages    status  \\\n",
       "0  [{\"iso_639_1\": \"en\", \"name\": \"English\"}, {\"iso...  Released   \n",
       "1           [{\"iso_639_1\": \"en\", \"name\": \"English\"}]  Released   \n",
       "2  [{\"iso_639_1\": \"fr\", \"name\": \"Fran\\u00e7ais\"},...  Released   \n",
       "3           [{\"iso_639_1\": \"en\", \"name\": \"English\"}]  Released   \n",
       "4           [{\"iso_639_1\": \"en\", \"name\": \"English\"}]  Released   \n",
       "\n",
       "                                          tagline  \\\n",
       "0                     Enter the World of Pandora.   \n",
       "1  At the end of the world, the adventure begins.   \n",
       "2                           A Plan No One Escapes   \n",
       "3                                 The Legend Ends   \n",
       "4            Lost in our world, found in another.   \n",
       "\n",
       "                                      title vote_average vote_count  \\\n",
       "0                                    Avatar          7.2      11800   \n",
       "1  Pirates of the Caribbean: At World's End          6.9       4500   \n",
       "2                                   Spectre          6.3       4466   \n",
       "3                     The Dark Knight Rises          7.6       9106   \n",
       "4                               John Carter          6.1       2124   \n",
       "\n",
       "                                                cast  \\\n",
       "0  Sam Worthington Zoe Saldana Sigourney Weaver S...   \n",
       "1  Johnny Depp Orlando Bloom Keira Knightley Stel...   \n",
       "2  Daniel Craig Christoph Waltz L\\u00e9a Seydoux ...   \n",
       "3  Christian Bale Michael Caine Gary Oldman Anne ...   \n",
       "4  Taylor Kitsch Lynn Collins Samantha Morton Wil...   \n",
       "\n",
       "                                                crew           director  \n",
       "0  [{'name': 'Stephen E. Rivkin', 'gender': 0, 'd...      James Cameron  \n",
       "1  [{'name': 'Dariusz Wolski', 'gender': 2, 'depa...     Gore Verbinski  \n",
       "2  [{'name': 'Thomas Newman', 'gender': 2, 'depar...         Sam Mendes  \n",
       "3  [{'name': 'Hans Zimmer', 'gender': 2, 'departm...  Christopher Nolan  \n",
       "4  [{'name': 'Andrew Stanton', 'gender': 2, 'depa...     Andrew Stanton  \n",
       "\n",
       "[5 rows x 24 columns]"
      ]
     },
     "execution_count": 2,
     "metadata": {},
     "output_type": "execute_result"
    }
   ],
   "source": [
    "movies_data = pd.read_csv(\"movies.csv\")\n",
    "movies_data.head()"
   ]
  },
  {
   "cell_type": "markdown",
   "id": "fbe7954a",
   "metadata": {},
   "source": [
    "##### Gathering information about the dataset"
   ]
  },
  {
   "cell_type": "code",
   "execution_count": 3,
   "id": "51f02be3",
   "metadata": {},
   "outputs": [
    {
     "data": {
      "text/plain": [
       "(4803, 24)"
      ]
     },
     "metadata": {},
     "output_type": "display_data"
    }
   ],
   "source": [
    "display(movies_data.shape)"
   ]
  },
  {
   "cell_type": "code",
   "execution_count": 4,
   "id": "43c311be",
   "metadata": {},
   "outputs": [
    {
     "name": "stdout",
     "output_type": "stream",
     "text": [
      "<class 'pandas.core.frame.DataFrame'>\n",
      "RangeIndex: 4803 entries, 0 to 4802\n",
      "Data columns (total 24 columns):\n",
      " #   Column                Non-Null Count  Dtype  \n",
      "---  ------                --------------  -----  \n",
      " 0   index                 4803 non-null   int64  \n",
      " 1   budget                4803 non-null   int64  \n",
      " 2   genres                4775 non-null   object \n",
      " 3   homepage              1712 non-null   object \n",
      " 4   id                    4803 non-null   int64  \n",
      " 5   keywords              4391 non-null   object \n",
      " 6   original_language     4803 non-null   object \n",
      " 7   original_title        4803 non-null   object \n",
      " 8   overview              4800 non-null   object \n",
      " 9   popularity            4803 non-null   float64\n",
      " 10  production_companies  4803 non-null   object \n",
      " 11  production_countries  4803 non-null   object \n",
      " 12  release_date          4802 non-null   object \n",
      " 13  revenue               4803 non-null   int64  \n",
      " 14  runtime               4801 non-null   float64\n",
      " 15  spoken_languages      4803 non-null   object \n",
      " 16  status                4803 non-null   object \n",
      " 17  tagline               3959 non-null   object \n",
      " 18  title                 4803 non-null   object \n",
      " 19  vote_average          4803 non-null   float64\n",
      " 20  vote_count            4803 non-null   int64  \n",
      " 21  cast                  4760 non-null   object \n",
      " 22  crew                  4803 non-null   object \n",
      " 23  director              4773 non-null   object \n",
      "dtypes: float64(3), int64(5), object(16)\n",
      "memory usage: 900.7+ KB\n"
     ]
    },
    {
     "data": {
      "text/plain": [
       "None"
      ]
     },
     "metadata": {},
     "output_type": "display_data"
    }
   ],
   "source": [
    "display(movies_data.info())"
   ]
  },
  {
   "cell_type": "markdown",
   "id": "72bb4d26",
   "metadata": {},
   "source": [
    "##### Checking Null values in the dataset"
   ]
  },
  {
   "cell_type": "code",
   "execution_count": 5,
   "id": "65012359",
   "metadata": {},
   "outputs": [
    {
     "data": {
      "text/plain": [
       "index                      0\n",
       "budget                     0\n",
       "genres                    28\n",
       "homepage                3091\n",
       "id                         0\n",
       "keywords                 412\n",
       "original_language          0\n",
       "original_title             0\n",
       "overview                   3\n",
       "popularity                 0\n",
       "production_companies       0\n",
       "production_countries       0\n",
       "release_date               1\n",
       "revenue                    0\n",
       "runtime                    2\n",
       "spoken_languages           0\n",
       "status                     0\n",
       "tagline                  844\n",
       "title                      0\n",
       "vote_average               0\n",
       "vote_count                 0\n",
       "cast                      43\n",
       "crew                       0\n",
       "director                  30\n",
       "dtype: int64"
      ]
     },
     "metadata": {},
     "output_type": "display_data"
    }
   ],
   "source": [
    "display(movies_data.isna().sum())"
   ]
  },
  {
   "cell_type": "markdown",
   "id": "d37dddf1",
   "metadata": {},
   "source": [
    "##### Selecting relevent features from the dataset"
   ]
  },
  {
   "cell_type": "code",
   "execution_count": 6,
   "id": "e8565144",
   "metadata": {},
   "outputs": [],
   "source": [
    "selected_features=['genres','keywords','tagline','cast','director']"
   ]
  },
  {
   "cell_type": "code",
   "execution_count": 7,
   "id": "08cff607",
   "metadata": {},
   "outputs": [
    {
     "data": {
      "text/html": [
       "<div>\n",
       "<style scoped>\n",
       "    .dataframe tbody tr th:only-of-type {\n",
       "        vertical-align: middle;\n",
       "    }\n",
       "\n",
       "    .dataframe tbody tr th {\n",
       "        vertical-align: top;\n",
       "    }\n",
       "\n",
       "    .dataframe thead th {\n",
       "        text-align: right;\n",
       "    }\n",
       "</style>\n",
       "<table border=\"1\" class=\"dataframe\">\n",
       "  <thead>\n",
       "    <tr style=\"text-align: right;\">\n",
       "      <th></th>\n",
       "      <th>genres</th>\n",
       "      <th>keywords</th>\n",
       "      <th>tagline</th>\n",
       "      <th>cast</th>\n",
       "      <th>director</th>\n",
       "    </tr>\n",
       "  </thead>\n",
       "  <tbody>\n",
       "    <tr>\n",
       "      <th>0</th>\n",
       "      <td>Action Adventure Fantasy Science Fiction</td>\n",
       "      <td>culture clash future space war space colony so...</td>\n",
       "      <td>Enter the World of Pandora.</td>\n",
       "      <td>Sam Worthington Zoe Saldana Sigourney Weaver S...</td>\n",
       "      <td>James Cameron</td>\n",
       "    </tr>\n",
       "    <tr>\n",
       "      <th>1</th>\n",
       "      <td>Adventure Fantasy Action</td>\n",
       "      <td>ocean drug abuse exotic island east india trad...</td>\n",
       "      <td>At the end of the world, the adventure begins.</td>\n",
       "      <td>Johnny Depp Orlando Bloom Keira Knightley Stel...</td>\n",
       "      <td>Gore Verbinski</td>\n",
       "    </tr>\n",
       "    <tr>\n",
       "      <th>2</th>\n",
       "      <td>Action Adventure Crime</td>\n",
       "      <td>spy based on novel secret agent sequel mi6</td>\n",
       "      <td>A Plan No One Escapes</td>\n",
       "      <td>Daniel Craig Christoph Waltz L\\u00e9a Seydoux ...</td>\n",
       "      <td>Sam Mendes</td>\n",
       "    </tr>\n",
       "    <tr>\n",
       "      <th>3</th>\n",
       "      <td>Action Crime Drama Thriller</td>\n",
       "      <td>dc comics crime fighter terrorist secret ident...</td>\n",
       "      <td>The Legend Ends</td>\n",
       "      <td>Christian Bale Michael Caine Gary Oldman Anne ...</td>\n",
       "      <td>Christopher Nolan</td>\n",
       "    </tr>\n",
       "    <tr>\n",
       "      <th>4</th>\n",
       "      <td>Action Adventure Science Fiction</td>\n",
       "      <td>based on novel mars medallion space travel pri...</td>\n",
       "      <td>Lost in our world, found in another.</td>\n",
       "      <td>Taylor Kitsch Lynn Collins Samantha Morton Wil...</td>\n",
       "      <td>Andrew Stanton</td>\n",
       "    </tr>\n",
       "  </tbody>\n",
       "</table>\n",
       "</div>"
      ],
      "text/plain": [
       "                                     genres  \\\n",
       "0  Action Adventure Fantasy Science Fiction   \n",
       "1                  Adventure Fantasy Action   \n",
       "2                    Action Adventure Crime   \n",
       "3               Action Crime Drama Thriller   \n",
       "4          Action Adventure Science Fiction   \n",
       "\n",
       "                                            keywords  \\\n",
       "0  culture clash future space war space colony so...   \n",
       "1  ocean drug abuse exotic island east india trad...   \n",
       "2         spy based on novel secret agent sequel mi6   \n",
       "3  dc comics crime fighter terrorist secret ident...   \n",
       "4  based on novel mars medallion space travel pri...   \n",
       "\n",
       "                                          tagline  \\\n",
       "0                     Enter the World of Pandora.   \n",
       "1  At the end of the world, the adventure begins.   \n",
       "2                           A Plan No One Escapes   \n",
       "3                                 The Legend Ends   \n",
       "4            Lost in our world, found in another.   \n",
       "\n",
       "                                                cast           director  \n",
       "0  Sam Worthington Zoe Saldana Sigourney Weaver S...      James Cameron  \n",
       "1  Johnny Depp Orlando Bloom Keira Knightley Stel...     Gore Verbinski  \n",
       "2  Daniel Craig Christoph Waltz L\\u00e9a Seydoux ...         Sam Mendes  \n",
       "3  Christian Bale Michael Caine Gary Oldman Anne ...  Christopher Nolan  \n",
       "4  Taylor Kitsch Lynn Collins Samantha Morton Wil...     Andrew Stanton  "
      ]
     },
     "metadata": {},
     "output_type": "display_data"
    }
   ],
   "source": [
    "display(movies_data[selected_features].head())"
   ]
  },
  {
   "cell_type": "markdown",
   "id": "5777ad8b",
   "metadata": {},
   "source": [
    "##### Checking null values in the selected features"
   ]
  },
  {
   "cell_type": "code",
   "execution_count": 8,
   "id": "2bf858b7",
   "metadata": {},
   "outputs": [
    {
     "data": {
      "text/plain": [
       "genres       28\n",
       "keywords    412\n",
       "tagline     844\n",
       "cast         43\n",
       "director     30\n",
       "dtype: int64"
      ]
     },
     "metadata": {},
     "output_type": "display_data"
    }
   ],
   "source": [
    "display(movies_data[selected_features].isna().sum())"
   ]
  },
  {
   "cell_type": "markdown",
   "id": "ecd6a510",
   "metadata": {},
   "source": [
    "##### Filling the null values of the selected features with empty string"
   ]
  },
  {
   "cell_type": "code",
   "execution_count": 9,
   "id": "cedd76f6",
   "metadata": {},
   "outputs": [
    {
     "data": {
      "text/html": [
       "<div>\n",
       "<style scoped>\n",
       "    .dataframe tbody tr th:only-of-type {\n",
       "        vertical-align: middle;\n",
       "    }\n",
       "\n",
       "    .dataframe tbody tr th {\n",
       "        vertical-align: top;\n",
       "    }\n",
       "\n",
       "    .dataframe thead th {\n",
       "        text-align: right;\n",
       "    }\n",
       "</style>\n",
       "<table border=\"1\" class=\"dataframe\">\n",
       "  <thead>\n",
       "    <tr style=\"text-align: right;\">\n",
       "      <th></th>\n",
       "      <th>index</th>\n",
       "      <th>budget</th>\n",
       "      <th>genres</th>\n",
       "      <th>homepage</th>\n",
       "      <th>id</th>\n",
       "      <th>keywords</th>\n",
       "      <th>original_language</th>\n",
       "      <th>original_title</th>\n",
       "      <th>overview</th>\n",
       "      <th>popularity</th>\n",
       "      <th>...</th>\n",
       "      <th>runtime</th>\n",
       "      <th>spoken_languages</th>\n",
       "      <th>status</th>\n",
       "      <th>tagline</th>\n",
       "      <th>title</th>\n",
       "      <th>vote_average</th>\n",
       "      <th>vote_count</th>\n",
       "      <th>cast</th>\n",
       "      <th>crew</th>\n",
       "      <th>director</th>\n",
       "    </tr>\n",
       "  </thead>\n",
       "  <tbody>\n",
       "    <tr>\n",
       "      <th>0</th>\n",
       "      <td>0</td>\n",
       "      <td>237000000</td>\n",
       "      <td>Action Adventure Fantasy Science Fiction</td>\n",
       "      <td>http://www.avatarmovie.com/</td>\n",
       "      <td>19995</td>\n",
       "      <td>culture clash future space war space colony so...</td>\n",
       "      <td>en</td>\n",
       "      <td>Avatar</td>\n",
       "      <td>In the 22nd century, a paraplegic Marine is di...</td>\n",
       "      <td>150.437577</td>\n",
       "      <td>...</td>\n",
       "      <td>162.0</td>\n",
       "      <td>[{\"iso_639_1\": \"en\", \"name\": \"English\"}, {\"iso...</td>\n",
       "      <td>Released</td>\n",
       "      <td>Enter the World of Pandora.</td>\n",
       "      <td>Avatar</td>\n",
       "      <td>7.2</td>\n",
       "      <td>11800</td>\n",
       "      <td>Sam Worthington Zoe Saldana Sigourney Weaver S...</td>\n",
       "      <td>[{'name': 'Stephen E. Rivkin', 'gender': 0, 'd...</td>\n",
       "      <td>James Cameron</td>\n",
       "    </tr>\n",
       "    <tr>\n",
       "      <th>1</th>\n",
       "      <td>1</td>\n",
       "      <td>300000000</td>\n",
       "      <td>Adventure Fantasy Action</td>\n",
       "      <td>http://disney.go.com/disneypictures/pirates/</td>\n",
       "      <td>285</td>\n",
       "      <td>ocean drug abuse exotic island east india trad...</td>\n",
       "      <td>en</td>\n",
       "      <td>Pirates of the Caribbean: At World's End</td>\n",
       "      <td>Captain Barbossa, long believed to be dead, ha...</td>\n",
       "      <td>139.082615</td>\n",
       "      <td>...</td>\n",
       "      <td>169.0</td>\n",
       "      <td>[{\"iso_639_1\": \"en\", \"name\": \"English\"}]</td>\n",
       "      <td>Released</td>\n",
       "      <td>At the end of the world, the adventure begins.</td>\n",
       "      <td>Pirates of the Caribbean: At World's End</td>\n",
       "      <td>6.9</td>\n",
       "      <td>4500</td>\n",
       "      <td>Johnny Depp Orlando Bloom Keira Knightley Stel...</td>\n",
       "      <td>[{'name': 'Dariusz Wolski', 'gender': 2, 'depa...</td>\n",
       "      <td>Gore Verbinski</td>\n",
       "    </tr>\n",
       "    <tr>\n",
       "      <th>2</th>\n",
       "      <td>2</td>\n",
       "      <td>245000000</td>\n",
       "      <td>Action Adventure Crime</td>\n",
       "      <td>http://www.sonypictures.com/movies/spectre/</td>\n",
       "      <td>206647</td>\n",
       "      <td>spy based on novel secret agent sequel mi6</td>\n",
       "      <td>en</td>\n",
       "      <td>Spectre</td>\n",
       "      <td>A cryptic message from Bond’s past sends him o...</td>\n",
       "      <td>107.376788</td>\n",
       "      <td>...</td>\n",
       "      <td>148.0</td>\n",
       "      <td>[{\"iso_639_1\": \"fr\", \"name\": \"Fran\\u00e7ais\"},...</td>\n",
       "      <td>Released</td>\n",
       "      <td>A Plan No One Escapes</td>\n",
       "      <td>Spectre</td>\n",
       "      <td>6.3</td>\n",
       "      <td>4466</td>\n",
       "      <td>Daniel Craig Christoph Waltz L\\u00e9a Seydoux ...</td>\n",
       "      <td>[{'name': 'Thomas Newman', 'gender': 2, 'depar...</td>\n",
       "      <td>Sam Mendes</td>\n",
       "    </tr>\n",
       "    <tr>\n",
       "      <th>3</th>\n",
       "      <td>3</td>\n",
       "      <td>250000000</td>\n",
       "      <td>Action Crime Drama Thriller</td>\n",
       "      <td>http://www.thedarkknightrises.com/</td>\n",
       "      <td>49026</td>\n",
       "      <td>dc comics crime fighter terrorist secret ident...</td>\n",
       "      <td>en</td>\n",
       "      <td>The Dark Knight Rises</td>\n",
       "      <td>Following the death of District Attorney Harve...</td>\n",
       "      <td>112.312950</td>\n",
       "      <td>...</td>\n",
       "      <td>165.0</td>\n",
       "      <td>[{\"iso_639_1\": \"en\", \"name\": \"English\"}]</td>\n",
       "      <td>Released</td>\n",
       "      <td>The Legend Ends</td>\n",
       "      <td>The Dark Knight Rises</td>\n",
       "      <td>7.6</td>\n",
       "      <td>9106</td>\n",
       "      <td>Christian Bale Michael Caine Gary Oldman Anne ...</td>\n",
       "      <td>[{'name': 'Hans Zimmer', 'gender': 2, 'departm...</td>\n",
       "      <td>Christopher Nolan</td>\n",
       "    </tr>\n",
       "    <tr>\n",
       "      <th>4</th>\n",
       "      <td>4</td>\n",
       "      <td>260000000</td>\n",
       "      <td>Action Adventure Science Fiction</td>\n",
       "      <td>http://movies.disney.com/john-carter</td>\n",
       "      <td>49529</td>\n",
       "      <td>based on novel mars medallion space travel pri...</td>\n",
       "      <td>en</td>\n",
       "      <td>John Carter</td>\n",
       "      <td>John Carter is a war-weary, former military ca...</td>\n",
       "      <td>43.926995</td>\n",
       "      <td>...</td>\n",
       "      <td>132.0</td>\n",
       "      <td>[{\"iso_639_1\": \"en\", \"name\": \"English\"}]</td>\n",
       "      <td>Released</td>\n",
       "      <td>Lost in our world, found in another.</td>\n",
       "      <td>John Carter</td>\n",
       "      <td>6.1</td>\n",
       "      <td>2124</td>\n",
       "      <td>Taylor Kitsch Lynn Collins Samantha Morton Wil...</td>\n",
       "      <td>[{'name': 'Andrew Stanton', 'gender': 2, 'depa...</td>\n",
       "      <td>Andrew Stanton</td>\n",
       "    </tr>\n",
       "  </tbody>\n",
       "</table>\n",
       "<p>5 rows × 24 columns</p>\n",
       "</div>"
      ],
      "text/plain": [
       "   index     budget                                    genres  \\\n",
       "0      0  237000000  Action Adventure Fantasy Science Fiction   \n",
       "1      1  300000000                  Adventure Fantasy Action   \n",
       "2      2  245000000                    Action Adventure Crime   \n",
       "3      3  250000000               Action Crime Drama Thriller   \n",
       "4      4  260000000          Action Adventure Science Fiction   \n",
       "\n",
       "                                       homepage      id  \\\n",
       "0                   http://www.avatarmovie.com/   19995   \n",
       "1  http://disney.go.com/disneypictures/pirates/     285   \n",
       "2   http://www.sonypictures.com/movies/spectre/  206647   \n",
       "3            http://www.thedarkknightrises.com/   49026   \n",
       "4          http://movies.disney.com/john-carter   49529   \n",
       "\n",
       "                                            keywords original_language  \\\n",
       "0  culture clash future space war space colony so...                en   \n",
       "1  ocean drug abuse exotic island east india trad...                en   \n",
       "2         spy based on novel secret agent sequel mi6                en   \n",
       "3  dc comics crime fighter terrorist secret ident...                en   \n",
       "4  based on novel mars medallion space travel pri...                en   \n",
       "\n",
       "                             original_title  \\\n",
       "0                                    Avatar   \n",
       "1  Pirates of the Caribbean: At World's End   \n",
       "2                                   Spectre   \n",
       "3                     The Dark Knight Rises   \n",
       "4                               John Carter   \n",
       "\n",
       "                                            overview  popularity  ... runtime  \\\n",
       "0  In the 22nd century, a paraplegic Marine is di...  150.437577  ...   162.0   \n",
       "1  Captain Barbossa, long believed to be dead, ha...  139.082615  ...   169.0   \n",
       "2  A cryptic message from Bond’s past sends him o...  107.376788  ...   148.0   \n",
       "3  Following the death of District Attorney Harve...  112.312950  ...   165.0   \n",
       "4  John Carter is a war-weary, former military ca...   43.926995  ...   132.0   \n",
       "\n",
       "                                    spoken_languages    status  \\\n",
       "0  [{\"iso_639_1\": \"en\", \"name\": \"English\"}, {\"iso...  Released   \n",
       "1           [{\"iso_639_1\": \"en\", \"name\": \"English\"}]  Released   \n",
       "2  [{\"iso_639_1\": \"fr\", \"name\": \"Fran\\u00e7ais\"},...  Released   \n",
       "3           [{\"iso_639_1\": \"en\", \"name\": \"English\"}]  Released   \n",
       "4           [{\"iso_639_1\": \"en\", \"name\": \"English\"}]  Released   \n",
       "\n",
       "                                          tagline  \\\n",
       "0                     Enter the World of Pandora.   \n",
       "1  At the end of the world, the adventure begins.   \n",
       "2                           A Plan No One Escapes   \n",
       "3                                 The Legend Ends   \n",
       "4            Lost in our world, found in another.   \n",
       "\n",
       "                                      title vote_average vote_count  \\\n",
       "0                                    Avatar          7.2      11800   \n",
       "1  Pirates of the Caribbean: At World's End          6.9       4500   \n",
       "2                                   Spectre          6.3       4466   \n",
       "3                     The Dark Knight Rises          7.6       9106   \n",
       "4                               John Carter          6.1       2124   \n",
       "\n",
       "                                                cast  \\\n",
       "0  Sam Worthington Zoe Saldana Sigourney Weaver S...   \n",
       "1  Johnny Depp Orlando Bloom Keira Knightley Stel...   \n",
       "2  Daniel Craig Christoph Waltz L\\u00e9a Seydoux ...   \n",
       "3  Christian Bale Michael Caine Gary Oldman Anne ...   \n",
       "4  Taylor Kitsch Lynn Collins Samantha Morton Wil...   \n",
       "\n",
       "                                                crew           director  \n",
       "0  [{'name': 'Stephen E. Rivkin', 'gender': 0, 'd...      James Cameron  \n",
       "1  [{'name': 'Dariusz Wolski', 'gender': 2, 'depa...     Gore Verbinski  \n",
       "2  [{'name': 'Thomas Newman', 'gender': 2, 'depar...         Sam Mendes  \n",
       "3  [{'name': 'Hans Zimmer', 'gender': 2, 'departm...  Christopher Nolan  \n",
       "4  [{'name': 'Andrew Stanton', 'gender': 2, 'depa...     Andrew Stanton  \n",
       "\n",
       "[5 rows x 24 columns]"
      ]
     },
     "metadata": {},
     "output_type": "display_data"
    }
   ],
   "source": [
    "for feature in selected_features:\n",
    "    movies_data[feature]=movies_data[feature].fillna(\"\")\n",
    "display(movies_data.head())"
   ]
  },
  {
   "cell_type": "markdown",
   "id": "b61e1e26",
   "metadata": {},
   "source": [
    "##### Combining all the features"
   ]
  },
  {
   "cell_type": "code",
   "execution_count": 10,
   "id": "190dd253",
   "metadata": {},
   "outputs": [
    {
     "data": {
      "text/plain": [
       "['genres', 'keywords', 'tagline', 'cast', 'director']"
      ]
     },
     "execution_count": 10,
     "metadata": {},
     "output_type": "execute_result"
    }
   ],
   "source": [
    "selected_features"
   ]
  },
  {
   "cell_type": "code",
   "execution_count": 11,
   "id": "05accd67",
   "metadata": {},
   "outputs": [],
   "source": [
    "combined_features=movies_data['genres']+movies_data['keywords']+movies_data['tagline']+movies_data['cast']+movies_data['director']"
   ]
  },
  {
   "cell_type": "code",
   "execution_count": 12,
   "id": "0e3ad9dc",
   "metadata": {},
   "outputs": [
    {
     "data": {
      "text/plain": [
       "0       Action Adventure Fantasy Science Fictioncultur...\n",
       "1       Adventure Fantasy Actionocean drug abuse exoti...\n",
       "2       Action Adventure Crimespy based on novel secre...\n",
       "3       Action Crime Drama Thrillerdc comics crime fig...\n",
       "4       Action Adventure Science Fictionbased on novel...\n",
       "                              ...                        \n",
       "4798    Action Crime Thrillerunited states\\u2013mexico...\n",
       "4799    Comedy RomanceA newlywed couple's honeymoon is...\n",
       "4800    Comedy Drama Romance TV Moviedate love at firs...\n",
       "4801    A New Yorker in ShanghaiDaniel Henney Eliza Co...\n",
       "4802    Documentaryobsession camcorder crush dream gir...\n",
       "Length: 4803, dtype: object"
      ]
     },
     "metadata": {},
     "output_type": "display_data"
    }
   ],
   "source": [
    "display(combined_features)"
   ]
  },
  {
   "cell_type": "markdown",
   "id": "7b409cf9",
   "metadata": {},
   "source": [
    "##### Combining data to feature vectors"
   ]
  },
  {
   "cell_type": "code",
   "execution_count": 13,
   "id": "773c41a6",
   "metadata": {},
   "outputs": [
    {
     "data": {
      "text/plain": [
       "(4803, 27580)"
      ]
     },
     "metadata": {},
     "output_type": "display_data"
    },
    {
     "name": "stdout",
     "output_type": "stream",
     "text": [
      "  (0, 3583)\t0.16941894714909375\n",
      "  (0, 20729)\t0.2738578969459924\n",
      "  (0, 16614)\t0.15696073877453268\n",
      "  (0, 14550)\t0.2236809363648068\n",
      "  (0, 23267)\t0.16128139780622516\n",
      "  (0, 26547)\t0.19638671147741732\n",
      "  (0, 22464)\t0.20207089568711745\n",
      "  (0, 21487)\t0.21550128478931546\n",
      "  (0, 27540)\t0.19771357974524176\n",
      "  (0, 27182)\t0.23480088356130552\n",
      "  (0, 21521)\t0.1562356665943368\n",
      "  (0, 18558)\t0.2612168335104853\n",
      "  (0, 18164)\t0.08690831799482265\n",
      "  (0, 27161)\t0.1261988657937151\n",
      "  (0, 24197)\t0.07518543993419265\n",
      "  (0, 22778)\t0.2738578969459924\n",
      "  (0, 4676)\t0.2452909770424961\n",
      "  (0, 26334)\t0.13059723071916296\n",
      "  (0, 22916)\t0.33668756406929184\n",
      "  (0, 10193)\t0.16532432420812987\n",
      "  (0, 4456)\t0.21799675215510664\n",
      "  (0, 9304)\t0.2738578969459924\n",
      "  (0, 21836)\t0.09966592997173944\n",
      "  (0, 8936)\t0.11806131645084653\n",
      "  (0, 444)\t0.09109355212252294\n",
      "  :\t:\n",
      "  (4801, 5449)\t0.31510541707008866\n",
      "  (4801, 22170)\t0.31510541707008866\n",
      "  (4801, 27361)\t0.31510541707008866\n",
      "  (4801, 27513)\t0.3005604008026175\n",
      "  (4801, 8121)\t0.2611505149930138\n",
      "  (4801, 758)\t0.19369913462690624\n",
      "  (4801, 11776)\t0.3005604008026175\n",
      "  (4801, 18790)\t0.22450140828104795\n",
      "  (4801, 2511)\t0.16619755360453184\n",
      "  (4801, 17791)\t0.15702571586793676\n",
      "  (4801, 12846)\t0.1232063996421506\n",
      "  (4802, 7770)\t0.28212235292045307\n",
      "  (4802, 11874)\t0.5642447058409061\n",
      "  (4802, 10640)\t0.28212235292045307\n",
      "  (4802, 6978)\t0.28212235292045307\n",
      "  (4802, 3569)\t0.2526933433912742\n",
      "  (4802, 9174)\t0.23381507827213685\n",
      "  (4802, 5847)\t0.2598601666162226\n",
      "  (4802, 11042)\t0.2245754361399493\n",
      "  (4802, 20664)\t0.1718311116708895\n",
      "  (4802, 2027)\t0.19514642661077047\n",
      "  (4802, 5354)\t0.2196244946235084\n",
      "  (4802, 8313)\t0.1713172199751922\n",
      "  (4802, 3128)\t0.17288424030654004\n",
      "  (4802, 7626)\t0.17686850692938538\n"
     ]
    }
   ],
   "source": [
    "vectorizer=TfidfVectorizer()\n",
    "feature_vectors=vectorizer.fit_transform(combined_features)\n",
    "display(feature_vectors.shape)\n",
    "print(feature_vectors)"
   ]
  },
  {
   "cell_type": "markdown",
   "id": "aec30969",
   "metadata": {},
   "source": [
    "##### Similarity scores"
   ]
  },
  {
   "cell_type": "code",
   "execution_count": 14,
   "id": "ff3e9095",
   "metadata": {},
   "outputs": [
    {
     "name": "stdout",
     "output_type": "stream",
     "text": [
      "[[1.         0.06865296 0.01492221 ... 0.         0.         0.        ]\n",
      " [0.06865296 1.         0.02799128 ... 0.01243107 0.         0.        ]\n",
      " [0.01492221 0.02799128 1.         ... 0.         0.         0.        ]\n",
      " ...\n",
      " [0.         0.01243107 0.         ... 1.         0.         0.        ]\n",
      " [0.         0.         0.         ... 0.         1.         0.        ]\n",
      " [0.         0.         0.         ... 0.         0.         1.        ]]\n"
     ]
    }
   ],
   "source": [
    "similarity=cosine_similarity(feature_vectors)\n",
    "print(similarity)"
   ]
  },
  {
   "cell_type": "code",
   "execution_count": 15,
   "id": "d9a896e4",
   "metadata": {},
   "outputs": [
    {
     "data": {
      "text/plain": [
       "(4803, 4803)"
      ]
     },
     "metadata": {},
     "output_type": "display_data"
    }
   ],
   "source": [
    "display(similarity.shape)"
   ]
  },
  {
   "cell_type": "code",
   "execution_count": 16,
   "id": "36a17ec3",
   "metadata": {
    "scrolled": true
   },
   "outputs": [
    {
     "data": {
      "text/plain": [
       "['Avatar',\n",
       " \"Pirates of the Caribbean: At World's End\",\n",
       " 'Spectre',\n",
       " 'The Dark Knight Rises',\n",
       " 'John Carter',\n",
       " 'Spider-Man 3',\n",
       " 'Tangled',\n",
       " 'Avengers: Age of Ultron',\n",
       " 'Harry Potter and the Half-Blood Prince',\n",
       " 'Batman v Superman: Dawn of Justice']"
      ]
     },
     "execution_count": 16,
     "metadata": {},
     "output_type": "execute_result"
    }
   ],
   "source": [
    "list_of_all_titles=movies_data['title'].tolist()\n",
    "list_of_all_titles[:10]"
   ]
  },
  {
   "cell_type": "code",
   "execution_count": 17,
   "id": "92211ff3",
   "metadata": {},
   "outputs": [
    {
     "data": {
      "text/plain": [
       "4803"
      ]
     },
     "execution_count": 17,
     "metadata": {},
     "output_type": "execute_result"
    }
   ],
   "source": [
    "len(list_of_all_titles)"
   ]
  },
  {
   "cell_type": "markdown",
   "id": "ddb5ebd8",
   "metadata": {},
   "source": [
    "##### Enter a movie name to get similarity"
   ]
  },
  {
   "cell_type": "code",
   "execution_count": 18,
   "id": "74283f61",
   "metadata": {},
   "outputs": [],
   "source": [
    "movie_name=input(\"Enter your favourite movie name:\")"
   ]
  },
  {
   "cell_type": "markdown",
   "id": "f043173e",
   "metadata": {},
   "source": [
    "##### Finding the best match for the movie name given by the user"
   ]
  },
  {
   "cell_type": "code",
   "execution_count": 19,
   "id": "f527f8d9",
   "metadata": {},
   "outputs": [
    {
     "name": "stdout",
     "output_type": "stream",
     "text": [
      "['The Fast and the Furious', '2 Fast 2 Furious']\n"
     ]
    }
   ],
   "source": [
    "find_close_match=difflib.get_close_matches(movie_name,list_of_all_titles)\n",
    "print(find_close_match)"
   ]
  },
  {
   "cell_type": "code",
   "execution_count": 20,
   "id": "d59b4c2d",
   "metadata": {},
   "outputs": [
    {
     "name": "stdout",
     "output_type": "stream",
     "text": [
      "The Fast and the Furious\n"
     ]
    }
   ],
   "source": [
    "close_match=find_close_match[0]\n",
    "print(close_match)"
   ]
  },
  {
   "cell_type": "code",
   "execution_count": 21,
   "id": "a878aa2a",
   "metadata": {},
   "outputs": [
    {
     "name": "stdout",
     "output_type": "stream",
     "text": [
      "99\n"
     ]
    }
   ],
   "source": [
    "index_of_the_movie = movies_data[movies_data.title == close_match]['index'].values[0]\n",
    "print(index_of_the_movie)"
   ]
  },
  {
   "cell_type": "code",
   "execution_count": 22,
   "id": "52829eb8",
   "metadata": {},
   "outputs": [
    {
     "name": "stdout",
     "output_type": "stream",
     "text": [
      "[(0, 0.02988305690422516), (1, 0.0), (2, 0.00617503495049915), (3, 0.029165766799492614), (4, 0.0058697709684298145), (5, 0.022486028713886476), (6, 0.0), (7, 0.006026145598957175), (8, 0.0), (9, 0.006045444872165786), (10, 0.0069199433372355255), (11, 0.03785677251138722), (12, 0.0), (13, 0.005803138765791562), (14, 0.00609243436105295), (15, 0.0), (16, 0.00573718097654944), (17, 0.005894008890286117), (18, 0.04368591354285663), (19, 0.005253780043947838), (20, 0.005794879092241033), (21, 0.005350621471318546), (22, 0.0), (23, 0.0), (24, 0.0), (25, 0.0), (26, 0.006409490306358457), (27, 0.02823821508091256), (28, 0.005831849404431667), (29, 0.006346217556982179), (30, 0.02190208887233907), (31, 0.005955331339902594), (32, 0.0), (33, 0.006081448268797152), (34, 0.0), (35, 0.0064082926135786015), (36, 0.005889209548936006), (37, 0.025372256590465776), (38, 0.00613020569409399), (39, 0.005956671297233423), (40, 0.03532907699207465), (41, 0.00568727433303498), (42, 0.0), (43, 0.006032263131900598), (44, 0.20196381245634032), (45, 0.005632821804235289), (46, 0.023958083068393428), (47, 0.006497134362622084), (48, 0.006484140577723933), (49, 0.0), (50, 0.006104438984740721), (51, 0.005223352540731283), (52, 0.005336897943108066), (53, 0.0), (54, 0.0), (55, 0.0), (56, 0.0066614305672162795), (57, 0.0), (58, 0.019372496115148928), (59, 0.005818398744886146), (60, 0.0), (61, 0.00614935266001382), (62, 0.005976747420298129), (63, 0.0), (64, 0.0), (65, 0.027554748844462552), (66, 0.0), (67, 0.017381393484295647), (68, 0.00561658336868043), (69, 0.04840217059467761), (70, 0.006033847571307746), (71, 0.05345384940217053), (72, 0.016008574571231088), (73, 0.016004882923336215), (74, 0.025855521222788242), (75, 0.03995933128056515), (76, 0.006127891451277455), (77, 0.0), (78, 0.0), (79, 0.005398762004051846), (80, 0.0), (81, 0.005096460473892376), (82, 0.006245831529704286), (83, 0.023367927625794916), (84, 0.005109611075052546), (85, 0.006440824280480529), (86, 0.0), (87, 0.0), (88, 0.005934351845991362), (89, 0.0), (90, 0.0), (91, 0.005858185373615738), (92, 0.0), (93, 0.0057853029850566924), (94, 0.08688349789452524), (95, 0.0), (96, 0.016184668035836715), (97, 0.005020852323741316), (98, 0.0), (99, 1.0000000000000002), (100, 0.0), (101, 0.0063675489016760635), (102, 0.006322289208628152), (103, 0.0060289320818408655), (104, 0.0064928511367304525), (105, 0.019640407827248282), (106, 0.0), (107, 0.006263991673774011), (108, 0.006112667212586302), (109, 0.0), (110, 0.0), (111, 0.0), (112, 0.005999181828883231), (113, 0.0), (114, 0.0), (115, 0.01589352116693569), (116, 0.0199295682162599), (117, 0.0), (118, 0.0), (119, 0.027505884351471645), (120, 0.0), (121, 0.005661588790668782), (122, 0.00643133513323855), (123, 0.005702480482922587), (124, 0.0), (125, 0.00576362764750308), (126, 0.0057181615704571045), (127, 0.006286067790734984), (128, 0.0), (129, 0.0), (130, 0.0), (131, 0.00655053368445718), (132, 0.0), (133, 0.023498028590199425), (134, 0.006073178890285622), (135, 0.0), (136, 0.0), (137, 0.0), (138, 0.005752674443197549), (139, 0.005310955090376586), (140, 0.006158054452038354), (141, 0.0), (142, 0.0), (143, 0.0), (144, 0.019289683716952687), (145, 0.0), (146, 0.033655674913819385), (147, 0.04234645180962971), (148, 0.006232159607638578), (149, 0.005688495192607291), (150, 0.04030501808913678), (151, 0.005856780406509302), (152, 0.005770412802018549), (153, 0.00577801896004989), (154, 0.0), (155, 0.0), (156, 0.005000979428955036), (157, 0.018158685848369924), (158, 0.025931842634648997), (159, 0.0), (160, 0.005889842311369014), (161, 0.0), (162, 0.04493979906978149), (163, 0.00542393301141461), (164, 0.022950476585221757), (165, 0.006712248468074096), (166, 0.0070587820518369145), (167, 0.006334124549584792), (168, 0.0058859863837151995), (169, 0.005796962249556451), (170, 0.005025651901354923), (171, 0.01584724621152979), (172, 0.0), (173, 0.0), (174, 0.005262288429633393), (175, 0.0), (176, 0.015264215143457396), (177, 0.08499362844308228), (178, 0.0), (179, 0.0), (180, 0.006326230032532195), (181, 0.0), (182, 0.021754813202922968), (183, 0.006268183433113204), (184, 0.0), (185, 0.0), (186, 0.036687212467581144), (187, 0.005658721718333211), (188, 0.006181103971623607), (189, 0.0), (190, 0.0), (191, 0.0), (192, 0.0), (193, 0.006613621387634146), (194, 0.0), (195, 0.0), (196, 0.00619959282013775), (197, 0.0), (198, 0.005995464828022111), (199, 0.0), (200, 0.0), (201, 0.017874888504117458), (202, 0.0), (203, 0.023255238434102467), (204, 0.276900524076274), (205, 0.01698813775785303), (206, 0.0), (207, 0.005536967640142127), (208, 0.0), (209, 0.00615141768617773), (210, 0.041046575935064056), (211, 0.0), (212, 0.005792172394885034), (213, 0.006583681875445228), (214, 0.0), (215, 0.00636497172531908), (216, 0.0), (217, 0.005705320912059852), (218, 0.006935092087233773), (219, 0.00654098134245149), (220, 0.0), (221, 0.0), (222, 0.006298835482375007), (223, 0.057101967320794735), (224, 0.005820904166364767), (225, 0.04378183070458745), (226, 0.01902548249198279), (227, 0.005908862211578024), (228, 0.005643344702338429), (229, 0.0), (230, 0.005049049346708674), (231, 0.0), (232, 0.005521125651223584), (233, 0.005150667550523205), (234, 0.0), (235, 0.0), (236, 0.006084969367093017), (237, 0.005734446525512057), (238, 0.005471363907690882), (239, 0.0), (240, 0.006072508400989652), (241, 0.006151382284268027), (242, 0.006398550575053737), (243, 0.0058762740112141216), (244, 0.005066475235951704), (245, 0.026466147738813235), (246, 0.0), (247, 0.0), (248, 0.006382707272827589), (249, 0.0), (250, 0.0), (251, 0.0), (252, 0.016840903059515855), (253, 0.005314085551411634), (254, 0.0), (255, 0.0), (256, 0.0), (257, 0.006046126457214444), (258, 0.0), (259, 0.0055080212850915), (260, 0.005971655897515447), (261, 0.006614898615148109), (262, 0.0), (263, 0.005813096987518747), (264, 0.0), (265, 0.0), (266, 0.006051037631433984), (267, 0.005095693535132039), (268, 0.0), (269, 0.0), (270, 0.0), (271, 0.044429111325911375), (272, 0.0), (273, 0.10467685559933618), (274, 0.006292146083010625), (275, 0.005581352471398934), (276, 0.030016030921779534), (277, 0.005952660589381745), (278, 0.005409423142913664), (279, 0.006450071620738026), (280, 0.01021102904014018), (281, 0.0), (282, 0.005315554345100162), (283, 0.0), (284, 0.0), (285, 0.005469993075364878), (286, 0.006112298093371306), (287, 0.0), (288, 0.020022222337290067), (289, 0.0), (290, 0.006443365817102286), (291, 0.00550060197191397), (292, 0.004957556936940193), (293, 0.0), (294, 0.0), (295, 0.0547182908209979), (296, 0.006307835122510504), (297, 0.0), (298, 0.011023961133658286), (299, 0.0170833215885629), (300, 0.00498554240718245), (301, 0.0), (302, 0.0), (303, 0.00650123812631468), (304, 0.0058245729602213634), (305, 0.0), (306, 0.03617781595630992), (307, 0.005881651876758732), (308, 0.046444643409597614), (309, 0.0), (310, 0.04037876177680711), (311, 0.006372017143160432), (312, 0.005384275981736876), (313, 0.0), (314, 0.01052615077365817), (315, 0.0053483093274591725), (316, 0.03368920535045972), (317, 0.0), (318, 0.0), (319, 0.00638874245479487), (320, 0.006365097581760589), (321, 0.0), (322, 0.006397380446712449), (323, 0.0), (324, 0.016245870241868007), (325, 0.0), (326, 0.0), (327, 0.016435485203841565), (328, 0.0), (329, 0.0), (330, 0.0), (331, 0.0), (332, 0.004948284046593836), (333, 0.015574399025219737), (334, 0.024247007881843533), (335, 0.006101133779696357), (336, 0.0), (337, 0.004213952409224723), (338, 0.0), (339, 0.006604577947731649), (340, 0.004774326114334938), (341, 0.0), (342, 0.03801304957737049), (343, 0.0), (344, 0.005046127249507739), (345, 0.018141372911394154), (346, 0.02116253976581219), (347, 0.0), (348, 0.0), (349, 0.0), (350, 0.018810864144415032), (351, 0.0), (352, 0.018641688755876174), (353, 0.004891348542834469), (354, 0.010220270520086394), (355, 0.006160504547760497), (356, 0.017203363114042997), (357, 0.0), (358, 0.0), (359, 0.0), (360, 0.0), (361, 0.0), (362, 0.03290818121789661), (363, 0.0), (364, 0.022226272313772482), (365, 0.0), (366, 0.005256971920183602), (367, 0.010185313007586993), (368, 0.0), (369, 0.005099086177501862), (370, 0.016595362569386908), (371, 0.004924454755511011), (372, 0.015097302770719759), (373, 0.01702521619912562), (374, 0.0), (375, 0.0), (376, 0.04253174643093186), (377, 0.007762468714537948), (378, 0.0), (379, 0.0), (380, 0.014739105704388583), (381, 0.007657559382888629), (382, 0.0323513610253631), (383, 0.005635212575189817), (384, 0.016023217812409646), (385, 0.0), (386, 0.006167074949741874), (387, 0.005969277966919609), (388, 0.0), (389, 0.005794799622000742), (390, 0.0), (391, 0.0), (392, 0.005922527798808357), (393, 0.0), (394, 0.006108692576323125), (395, 0.0), (396, 0.0061832578661530305), (397, 0.0), (398, 0.010287546528417575), (399, 0.0), (400, 0.00534440609753655), (401, 0.0), (402, 0.0061062266585388885), (403, 0.005516380061219052), (404, 0.0), (405, 0.1596718461166355), (406, 0.0), (407, 0.022527111693519977), (408, 0.005972369433652526), (409, 0.0), (410, 0.0), (411, 0.0046859852356683105), (412, 0.0057637112662333526), (413, 0.0), (414, 0.03531786847561548), (415, 0.018238728587191146), (416, 0.0), (417, 0.0), (418, 0.0), (419, 0.0), (420, 0.0), (421, 0.02633909016292655), (422, 0.0), (423, 0.0), (424, 0.0), (425, 0.006569177581173774), (426, 0.0), (427, 0.03497971227195797), (428, 0.058825315565518045), (429, 0.03986055006837552), (430, 0.0), (431, 0.0), (432, 0.006001432679665214), (433, 0.017894168154279067), (434, 0.0), (435, 0.0), (436, 0.0), (437, 0.0064917771300457144), (438, 0.0), (439, 0.02578552857267438), (440, 0.0), (441, 0.0), (442, 0.01403839282265936), (443, 0.0), (444, 0.024452346802857943), (445, 0.0), (446, 0.005916191520447963), (447, 0.02545653857154943), (448, 0.0), (449, 0.0055117718117951055), (450, 0.0), (451, 0.0), (452, 0.0), (453, 0.017791078275949324), (454, 0.0), (455, 0.005755342502171067), (456, 0.0), (457, 0.005918840322042187), (458, 0.0), (459, 0.0), (460, 0.0), (461, 0.0), (462, 0.0), (463, 0.0), (464, 0.0), (465, 0.0), (466, 0.041054747356736546), (467, 0.006698944278135733), (468, 0.016055885027287057), (469, 0.005360513489768992), (470, 0.01503995220850101), (471, 0.0), (472, 0.006059930245143577), (473, 0.0), (474, 0.0), (475, 0.005007767681819484), (476, 0.006079048924987124), (477, 0.0), (478, 0.06300720734691413), (479, 0.0), (480, 0.006115759127831822), (481, 0.015739833000501025), (482, 0.026421366055211552), (483, 0.05424590136276639), (484, 0.0), (485, 0.0), (486, 0.08571303974606508), (487, 0.005566345257533787), (488, 0.0), (489, 0.0), (490, 0.01853570644444508), (491, 0.005509812657102428), (492, 0.021144101163818426), (493, 0.03237220158454876), (494, 0.014208254299230852), (495, 0.005830401410158554), (496, 0.0), (497, 0.011794693988573463), (498, 0.03241841614060509), (499, 0.0), (500, 0.19825196720147534), (501, 0.017175100357682417), (502, 0.0), (503, 0.005364287781510977), (504, 0.0), (505, 0.005731610703103742), (506, 0.0), (507, 0.005957659250441849), (508, 0.006088905213087079), (509, 0.0), (510, 0.005987216143081007), (511, 0.00629166789319977), (512, 0.006381565241380972), (513, 0.00516767078927614), (514, 0.0), (515, 0.0), (516, 0.022311012547869446), (517, 0.0), (518, 0.034465059098138434), (519, 0.0), (520, 0.0), (521, 0.0), (522, 0.0), (523, 0.006160678910266239), (524, 0.0), (525, 0.0053850841127000195), (526, 0.0), (527, 0.0), (528, 0.02344839632925675), (529, 0.03783450828522608), (530, 0.007051645460270251), (531, 0.005514249746982161), (532, 0.0), (533, 0.0), (534, 0.02999105449499878), (535, 0.005703384563021487), (536, 0.0), (537, 0.005882851472962768), (538, 0.024111745970435947), (539, 0.00638671624329853), (540, 0.007567937681586271), (541, 0.0048584080271658), (542, 0.005450660606618742), (543, 0.005077874135904738), (544, 0.005800374836546635), (545, 0.0), (546, 0.0), (547, 0.006284454348316213), (548, 0.009912456253190868), (549, 0.0), (550, 0.0), (551, 0.0), (552, 0.0), (553, 0.00597632652993813), (554, 0.03478460522262025), (555, 0.0), (556, 0.005439892195674269), (557, 0.0), (558, 0.0), (559, 0.05348533476252043), (560, 0.04679262701923577), (561, 0.0), (562, 0.0), (563, 0.0), (564, 0.0), (565, 0.020311647268191367), (566, 0.12273310242688143), (567, 0.0), (568, 0.15055172376612022), (569, 0.0), (570, 0.005971685628395999), (571, 0.023891997228243592), (572, 0.0), (573, 0.006444805465253528), (574, 0.09832215436246168), (575, 0.0), (576, 0.014317814602694226), (577, 0.0), (578, 0.0), (579, 0.004828897378583249), (580, 0.005658671326665896), (581, 0.005394384043579454), (582, 0.005851921718909141), (583, 0.015176309763509852), (584, 0.028112398868473287), (585, 0.01382743114640055), (586, 0.0), (587, 0.005145715895814285), (588, 0.0), (589, 0.0058722584844396715), (590, 0.033831330279023006), (591, 0.024746978312981227), (592, 0.0), (593, 0.0), (594, 0.0059876075068583095), (595, 0.005579349449362735), (596, 0.006341703661177436), (597, 0.006252732179852796), (598, 0.0), (599, 0.0), (600, 0.007279859565886844), (601, 0.00631753849490885), (602, 0.006808221611646931), (603, 0.02478152011392822), (604, 0.005736723081417996), (605, 0.0), (606, 0.010018810029690562), (607, 0.005877681975139214), (608, 0.009640662738040009), (609, 0.006259653893419991), (610, 0.005664502236546616), (611, 0.005495704952471174), (612, 0.0), (613, 0.03166244768220563), (614, 0.017264730686950787), (615, 0.0055232408037933145), (616, 0.0), (617, 0.0), (618, 0.005403355954069018), (619, 0.0), (620, 0.0), (621, 0.029080849247122613), (622, 0.006179122985900278), (623, 0.016831266106910617), (624, 0.037002238716156745), (625, 0.0), (626, 0.0), (627, 0.004571433061955678), (628, 0.08341279128735789), (629, 0.13454751307918641), (630, 0.0), (631, 0.0), (632, 0.0), (633, 0.0), (634, 0.0058755404667608134), (635, 0.03588623932496278), (636, 0.0), (637, 0.0), (638, 0.015108194860508803), (639, 0.0), (640, 0.0056658571044036), (641, 0.024496188326484286), (642, 0.0), (643, 0.006373994682499175), (644, 0.006090913649712939), (645, 0.006197103060488528), (646, 0.0), (647, 0.0), (648, 0.0), (649, 0.04566612938552318), (650, 0.0), (651, 0.0), (652, 0.009691398831826183), (653, 0.006047245261343531), (654, 0.005924783117252739), (655, 0.006192099016696493), (656, 0.0), (657, 0.06639882935015959), (658, 0.11256296437245694), (659, 0.016458588424642685), (660, 0.007414484278163053), (661, 0.0), (662, 0.0), (663, 0.0), (664, 0.005974435326467319), (665, 0.014892434903507345), (666, 0.0), (667, 0.04501338064967578), (668, 0.005892073956781027), (669, 0.04819716406467046), (670, 0.0), (671, 0.0), (672, 0.010238111069998286), (673, 0.007829697208700439), (674, 0.007491358418745953), (675, 0.0), (676, 0.005678909164008154), (677, 0.0057297608167402895), (678, 0.0068534564124984555), (679, 0.0), (680, 0.005303215680864895), (681, 0.0), (682, 0.0), (683, 0.005484294420412869), (684, 0.009465990108811495), (685, 0.006108596283544403), (686, 0.0), (687, 0.006022062068691579), (688, 0.0), (689, 0.0), (690, 0.0), (691, 0.03527797339748756), (692, 0.0), (693, 0.0), (694, 0.0056943451263615896), (695, 0.005341559760167957), (696, 0.01123659835340143), (697, 0.0), (698, 0.025484074776303243), (699, 0.0), (700, 0.04198512731270285), (701, 0.0), (702, 0.006204930648898972), (703, 0.023532498495480673), (704, 0.0), (705, 0.0), (706, 0.0970435817299147), (707, 0.0), (708, 0.0), (709, 0.0), (710, 0.0), (711, 0.015023962663053489), (712, 0.0), (713, 0.0), (714, 0.010240729391275146), (715, 0.007082749046041276), (716, 0.00612602348478665), (717, 0.010535867349184254), (718, 0.005183385989034974), (719, 0.0), (720, 0.0), (721, 0.0), (722, 0.0), (723, 0.0), (724, 0.005943948209427265), (725, 0.0), (726, 0.0), (727, 0.0), (728, 0.005495344151085042), (729, 0.0), (730, 0.0), (731, 0.006182722223777885), (732, 0.02553792894944469), (733, 0.022748997541793884), (734, 0.0), (735, 0.012309253280154557), (736, 0.038835682484212666), (737, 0.006376904001371467), (738, 0.0), (739, 0.015327741263191518), (740, 0.0), (741, 0.005835538441963263), (742, 0.0), (743, 0.0), (744, 0.005750806723193818), (745, 0.0055921739351006364), (746, 0.0055729171638951224), (747, 0.01719553329668354), (748, 0.0), (749, 0.0), (750, 0.0), (751, 0.0175463403144526), (752, 0.0), (753, 0.005986978473705364), (754, 0.01376360373594371), (755, 0.005969888184680539), (756, 0.009835359628569094), (757, 0.043254112841217635), (758, 0.010772561008810948), (759, 0.0), (760, 0.0), (761, 0.014733632568171983), (762, 0.017374465664040044), (763, 0.03863460690146126), (764, 0.0), (765, 0.0), (766, 0.0), (767, 0.01685339101053976), (768, 0.006380409326380754), (769, 0.030788774089356447), (770, 0.0), (771, 0.027618998391978348), (772, 0.035156347975099214), (773, 0.006717561258142116), (774, 0.006981990648554211), (775, 0.0), (776, 0.0), (777, 0.006034127009791364), (778, 0.0), (779, 0.0), (780, 0.0), (781, 0.015621934797094023), (782, 0.01554680897127883), (783, 0.017501724432457715), (784, 0.006263572037646248), (785, 0.01603674334488664), (786, 0.006646471823180429), (787, 0.02170587666162258), (788, 0.005602027193175381), (789, 0.0), (790, 0.0), (791, 0.0), (792, 0.0), (793, 0.0), (794, 0.020501130450673182), (795, 0.0), (796, 0.0), (797, 0.0), (798, 0.0), (799, 0.005474938140653668), (800, 0.010642034817959044), (801, 0.0), (802, 0.0), (803, 0.04051605636161711), (804, 0.016803901049505923), (805, 0.005527627494682394), (806, 0.0), (807, 0.0947911178596453), (808, 0.005959146987149414), (809, 0.0), (810, 0.0), (811, 0.0), (812, 0.015278661008997765), (813, 0.015629721951988897), (814, 0.0), (815, 0.0), (816, 0.0), (817, 0.0), (818, 0.00615148139224099), (819, 0.0), (820, 0.0), (821, 0.02981231012071925), (822, 0.0), (823, 0.006204492355611653), (824, 0.0), (825, 0.0), (826, 0.011369192754548613), (827, 0.01449972714954431), (828, 0.006281681527880121), (829, 0.0), (830, 0.014824915754177995), (831, 0.03695907424887258), (832, 0.01187199278119636), (833, 0.0056399623041330565), (834, 0.0064382899354691655), (835, 0.0), (836, 0.005637822002834804), (837, 0.0), (838, 0.00598384160297667), (839, 0.0), (840, 0.015332778373748596), (841, 0.0), (842, 0.0), (843, 0.0), (844, 0.005859884082173704), (845, 0.0), (846, 0.0), (847, 0.0), (848, 0.0), (849, 0.009986577215685265), (850, 0.025752310474909515), (851, 0.0), (852, 0.01870361930735854), (853, 0.0), (854, 0.005493356962938631), (855, 0.0), (856, 0.005547163642184539), (857, 0.0), (858, 0.011285725290489188), (859, 0.005295304821615352), (860, 0.03501120724431677), (861, 0.0), (862, 0.0), (863, 0.00620114686708498), (864, 0.005747635681349954), (865, 0.0), (866, 0.018682721618024138), (867, 0.009821204432938664), (868, 0.0), (869, 0.018294234760121392), (870, 0.0058390548096797145), (871, 0.0), (872, 0.0), (873, 0.016560805063234922), (874, 0.018044812940414892), (875, 0.0), (876, 0.0), (877, 0.011295663128247077), (878, 0.0), (879, 0.010065291599271137), (880, 0.037841059716385864), (881, 0.018138684936374137), (882, 0.01702358250888502), (883, 0.0), (884, 0.0), (885, 0.0), (886, 0.0), (887, 0.0), (888, 0.005989174685693702), (889, 0.0), (890, 0.0), (891, 0.0), (892, 0.02542928588683109), (893, 0.049071491589006005), (894, 0.005188959698262966), (895, 0.0), (896, 0.0), (897, 0.0), (898, 0.0), (899, 0.0), (900, 0.0), (901, 0.0), (902, 0.0), (903, 0.014721369055386237), (904, 0.0), (905, 0.0), (906, 0.05075780310620553), (907, 0.018112168195225663), (908, 0.0), (909, 0.0), (910, 0.0), (911, 0.04613441724193597), (912, 0.0), (913, 0.0), (914, 0.02134143317439477), (915, 0.0), (916, 0.0), (917, 0.0), (918, 0.018099142560360507), (919, 0.006231812318939001), (920, 0.005981678573812941), (921, 0.0), (922, 0.025865161655302754), (923, 0.0), (924, 0.0), (925, 0.0), (926, 0.0), (927, 0.0), (928, 0.0), (929, 0.005262939444932535), (930, 0.028079515482367895), (931, 0.03364969446521921), (932, 0.00443468408990729), (933, 0.005725164943805795), (934, 0.0), (935, 0.06548121022650327), (936, 0.0), (937, 0.0), (938, 0.0), (939, 0.004863828556270676), (940, 0.0), (941, 0.005119584780813366), (942, 0.0), (943, 0.016619590725589994), (944, 0.011342338735414154), (945, 0.0061925565731465754), (946, 0.014538669887216608), (947, 0.0), (948, 0.0), (949, 0.0), (950, 0.01405365562288001), (951, 0.005743810485079961), (952, 0.04385046941413792), (953, 0.0), (954, 0.0), (955, 0.005497524585255657), (956, 0.006086640659600266), (957, 0.0), (958, 0.010730302432435081), (959, 0.0052789242208018065), (960, 0.03622175711186227), (961, 0.0), (962, 0.015472043873349894), (963, 0.05331476866359305), (964, 0.0), (965, 0.0), (966, 0.0), (967, 0.01624120632808345), (968, 0.010634109612358862), (969, 0.029406808890117896), (970, 0.010732737858050644), (971, 0.042511105483834084), (972, 0.006041278235241681), (973, 0.005563751573178526), (974, 0.009576421620018007), (975, 0.0), (976, 0.006311084846863672), (977, 0.07753221894893306), (978, 0.015544618411379612), (979, 0.0061387879764625295), (980, 0.010957108047739635), (981, 0.0), (982, 0.016649677689030584), (983, 0.00898645574283903), (984, 0.0628755812275839), (985, 0.006817175792267624), (986, 0.0), (987, 0.017431039527282713), (988, 0.005712501845891693), (989, 0.005542749212911992), (990, 0.0085263655054416), (991, 0.0), (992, 0.005944567041268698), (993, 0.006182952573015539), (994, 0.004925769836206413), (995, 0.0), (996, 0.010250135242808206), (997, 0.018625019054933724), (998, 0.0), (999, 0.01254919146110933), (1000, 0.03430488321561051), (1001, 0.005490267600071133), (1002, 0.006470008535326274), (1003, 0.01423655999896277), (1004, 0.0), (1005, 0.0), (1006, 0.017182721810526727), (1007, 0.0), (1008, 0.011768714339373383), (1009, 0.0), (1010, 0.011620538718365927), (1011, 0.0), (1012, 0.0061992788009932525), (1013, 0.009826626409506309), (1014, 0.0), (1015, 0.02609701173128781), (1016, 0.03135595063847582), (1017, 0.027759903304731857), (1018, 0.024426421540990815), (1019, 0.0), (1020, 0.0), (1021, 0.0), (1022, 0.0), (1023, 0.0), (1024, 0.013636485520234845), (1025, 0.009492446321536166), (1026, 0.03708034808906411), (1027, 0.039559682492933), (1028, 0.0), (1029, 0.02063368449832844), (1030, 0.0), (1031, 0.028352572677286775), (1032, 0.0), (1033, 0.019917117794700255), (1034, 0.005875146867325662), (1035, 0.006204882827723325), (1036, 0.0), (1037, 0.0), (1038, 0.009545922991825466), (1039, 0.0), (1040, 0.039476513452100105), (1041, 0.014474899491367647), (1042, 0.0), (1043, 0.009967336829284863), (1044, 0.005337159823891486), (1045, 0.0), (1046, 0.0), (1047, 0.007733907254792772), (1048, 0.0), (1049, 0.005530622957311521), (1050, 0.0), (1051, 0.017326864480439814), (1052, 0.04633264166387065), (1053, 0.0), (1054, 0.0), (1055, 0.0), (1056, 0.0), (1057, 0.03980119641851007), (1058, 0.014611925970987247), (1059, 0.0), (1060, 0.0), (1061, 0.024604219002151557), (1062, 0.0), (1063, 0.0), (1064, 0.004760141166349128), (1065, 0.0), (1066, 0.0), (1067, 0.0), (1068, 0.0), (1069, 0.0), (1070, 0.006085897639901999), (1071, 0.0), (1072, 0.0), (1073, 0.0163110110080671), (1074, 0.0), (1075, 0.009346412369623368), (1076, 0.0161325349215633), (1077, 0.0048161184623055995), (1078, 0.01731108057161604), (1079, 0.005227163606719207), (1080, 0.0), (1081, 0.0), (1082, 0.026566617625894882), (1083, 0.12187074386135587), (1084, 0.03721122698685766), (1085, 0.013812968215361782), (1086, 0.005999503368146488), (1087, 0.011926658963849373), (1088, 0.0), (1089, 0.0), (1090, 0.0), (1091, 0.0), (1092, 0.0), (1093, 0.005675547372711806), (1094, 0.0), (1095, 0.005314845052159942), (1096, 0.01537629752372572), (1097, 0.0056164154882056986), (1098, 0.0), (1099, 0.008399981073065095), (1100, 0.015405435091181842), (1101, 0.00574552829203789), (1102, 0.0), (1103, 0.04707983724149794), (1104, 0.0), (1105, 0.00995471800281895), (1106, 0.005418957918191068), (1107, 0.0), (1108, 0.0), (1109, 0.00498224868013643), (1110, 0.005957428511844502), (1111, 0.0), (1112, 0.014196735728184811), (1113, 0.0613551927282885), (1114, 0.006796783332791596), (1115, 0.0), (1116, 0.0), (1117, 0.0), (1118, 0.006166408773671562), (1119, 0.004945290399052068), (1120, 0.0), (1121, 0.0), (1122, 0.015320815595113994), (1123, 0.0), (1124, 0.006187873770919387), (1125, 0.0), (1126, 0.0), (1127, 0.0), (1128, 0.0), (1129, 0.0), (1130, 0.05281426728214379), (1131, 0.005737092475692828), (1132, 0.0), (1133, 0.016890574552705293), (1134, 0.0), (1135, 0.0105792039975125), (1136, 0.0054330456723631565), (1137, 0.005746672544657265), (1138, 0.005146653193532858), (1139, 0.006278295016855066), (1140, 0.005505630751739543), (1141, 0.03316016233376514), (1142, 0.0), (1143, 0.017222275401431057), (1144, 0.006169363050240036), (1145, 0.0), (1146, 0.005442113087765405), (1147, 0.0), (1148, 0.0), (1149, 0.0), (1150, 0.0), (1151, 0.019993211379765577), (1152, 0.08383255414139401), (1153, 0.004469457777020949), (1154, 0.0), (1155, 0.0403905965106219), (1156, 0.030091655771217148), (1157, 0.0), (1158, 0.005889436960077406), (1159, 0.0), (1160, 0.0), (1161, 0.0), (1162, 0.0), (1163, 0.01506753785484404), (1164, 0.0), (1165, 0.016562655791600767), (1166, 0.04244466845284231), (1167, 0.0), (1168, 0.0), (1169, 0.0), (1170, 0.010091344863718685), (1171, 0.0), (1172, 0.0477495316204819), (1173, 0.0), (1174, 0.005156910008429098), (1175, 0.0053276872496181345), (1176, 0.01613070736552108), (1177, 0.032975619543357856), (1178, 0.006046817663487942), (1179, 0.018214979880299586), (1180, 0.0), (1181, 0.0), (1182, 0.03374881369925805), (1183, 0.01955607683049181), (1184, 0.0), (1185, 0.0), (1186, 0.11043818286696536), (1187, 0.0), (1188, 0.005670764675070071), (1189, 0.0), (1190, 0.0), (1191, 0.0), (1192, 0.005439937251046713), (1193, 0.005224942025042921), (1194, 0.026242661663853133), (1195, 0.006047648654288825), (1196, 0.0), (1197, 0.04316610054588682), (1198, 0.0), (1199, 0.005213173014930912), (1200, 0.0057400519457550285), (1201, 0.020720720910001458), (1202, 0.013740529437752346), (1203, 0.0), (1204, 0.0), (1205, 0.0), (1206, 0.0), (1207, 0.036057355418305244), (1208, 0.0), (1209, 0.008529709272039106), (1210, 0.0), (1211, 0.020520216533201914), (1212, 0.0), (1213, 0.0052526937503675035), (1214, 0.013579162883986112), (1215, 0.029071449629367748), (1216, 0.0), (1217, 0.0), (1218, 0.0), (1219, 0.0), (1220, 0.009627502621813878), (1221, 0.0), (1222, 0.0), (1223, 0.0), (1224, 0.0), (1225, 0.010471515816611566), (1226, 0.0), (1227, 0.0), (1228, 0.0), (1229, 0.0), (1230, 0.006033669791474026), (1231, 0.0), (1232, 0.0), (1233, 0.0), (1234, 0.01599186103935639), (1235, 0.0), (1236, 0.0), (1237, 0.0), (1238, 0.0), (1239, 0.005878546677171622), (1240, 0.0), (1241, 0.01677211893106991), (1242, 0.0), (1243, 0.0), (1244, 0.0), (1245, 0.04956713067921487), (1246, 0.0), (1247, 0.009835162943657345), (1248, 0.0), (1249, 0.03561892779837237), (1250, 0.03077016637354899), (1251, 0.0), (1252, 0.0), (1253, 0.02276386598498747), (1254, 0.037082922961215306), (1255, 0.0), (1256, 0.006653889811473), (1257, 0.01741983694074913), (1258, 0.0), (1259, 0.0), (1260, 0.01505712553875639), (1261, 0.0), (1262, 0.0), (1263, 0.0), (1264, 0.02137383139957868), (1265, 0.01770788658121327), (1266, 0.005688022993007531), (1267, 0.008048290585800593), (1268, 0.0), (1269, 0.006391427546796952), (1270, 0.005645609721000802), (1271, 0.005468106560424818), (1272, 0.006165647568907335), (1273, 0.006969723504506287), (1274, 0.016177506056382917), (1275, 0.022951603991702887), (1276, 0.0), (1277, 0.0), (1278, 0.007021640976120943), (1279, 0.0058757037015470465), (1280, 0.0), (1281, 0.014771577695995703), (1282, 0.005467880745765662), (1283, 0.01607699581128426), (1284, 0.006372179763549947), (1285, 0.006679261133214105), (1286, 0.0049690713510260115), (1287, 0.0), (1288, 0.007712449356438272), (1289, 0.0066207068327081755), (1290, 0.005739294557659958), (1291, 0.02780158735624834), (1292, 0.0), (1293, 0.0), (1294, 0.005899059595156846), (1295, 0.0), (1296, 0.00484064922986742), (1297, 0.0), (1298, 0.0), (1299, 0.0), (1300, 0.0), (1301, 0.0), (1302, 0.042318862686042166), (1303, 0.005832078624224041), (1304, 0.00424218686659709), (1305, 0.0), (1306, 0.0), (1307, 0.0), (1308, 0.0), (1309, 0.011542051354594926), (1310, 0.038333554856234874), (1311, 0.0), (1312, 0.0), (1313, 0.01526007388251765), (1314, 0.0), (1315, 0.0), (1316, 0.047147718800684024), (1317, 0.006681950365835938), (1318, 0.0), (1319, 0.04722831499516106), (1320, 0.00632241217354581), (1321, 0.006351203916512184), (1322, 0.0), (1323, 0.0), (1324, 0.006020107514752752), (1325, 0.043084519593952146), (1326, 0.0), (1327, 0.0), (1328, 0.009893827767739522), (1329, 0.0), (1330, 0.0), (1331, 0.0), (1332, 0.02770045311101791), (1333, 0.0), (1334, 0.061639445071243054), (1335, 0.0), (1336, 0.0), (1337, 0.0), (1338, 0.0), (1339, 0.021733813332546426), (1340, 0.03446124265479937), (1341, 0.004023347605043942), (1342, 0.037614590029044735), (1343, 0.0056891375798344326), (1344, 0.03723636270963081), (1345, 0.0), (1346, 0.0), (1347, 0.08489985704008192), (1348, 0.0), (1349, 0.0), (1350, 0.041242028345125095), (1351, 0.0), (1352, 0.0), (1353, 0.0), (1354, 0.0), (1355, 0.0), (1356, 0.0), (1357, 0.007405725860778757), (1358, 0.011545332321305727), (1359, 0.023260954667415935), (1360, 0.0), (1361, 0.0053498456292983415), (1362, 0.0), (1363, 0.0535105507112016), (1364, 0.0), (1365, 0.0), (1366, 0.0), (1367, 0.0), (1368, 0.02505757676924006), (1369, 0.009768035839317232), (1370, 0.0), (1371, 0.0), (1372, 0.0), (1373, 0.0), (1374, 0.009661759532975477), (1375, 0.04401014820728872), (1376, 0.0), (1377, 0.020726932389721064), (1378, 0.02001299726989758), (1379, 0.0), (1380, 0.006113868416728154), (1381, 0.0358161052583738), (1382, 0.0379801020002844), (1383, 0.0), (1384, 0.0), (1385, 0.0), (1386, 0.01803335860046913), (1387, 0.0), (1388, 0.016211393941819054), (1389, 0.0), (1390, 0.006193373025115351), (1391, 0.0), (1392, 0.0), (1393, 0.0), (1394, 0.011234100663175189), (1395, 0.06308871212781524), (1396, 0.0), (1397, 0.026731165068051878), (1398, 0.0), (1399, 0.06374838418036473), (1400, 0.0), (1401, 0.0), (1402, 0.01940669522512138), (1403, 0.0), (1404, 0.0046632250407562525), (1405, 0.0), (1406, 0.0), (1407, 0.0), (1408, 0.04355113473574948), (1409, 0.010904884048538921), (1410, 0.0), (1411, 0.03535092966513202), (1412, 0.03652197983903287), (1413, 0.0), (1414, 0.0), (1415, 0.0), (1416, 0.0), (1417, 0.06131276770479707), (1418, 0.012254134279846158), (1419, 0.01614088454483124), (1420, 0.0), (1421, 0.011240367487378156), (1422, 0.0), (1423, 0.0), (1424, 0.0), (1425, 0.02241700112078495), (1426, 0.0), (1427, 0.0), (1428, 0.022412798528130037), (1429, 0.01096734180488683), (1430, 0.0), (1431, 0.04584988453103032), (1432, 0.005971015132628856), (1433, 0.0), (1434, 0.006056105978132257), (1435, 0.015724971806166253), (1436, 0.0), (1437, 0.0056693307305213944), (1438, 0.0053869169126419805), (1439, 0.010397395034389125), (1440, 0.005853402190503247), (1441, 0.0), (1442, 0.0), (1443, 0.00573654516866303), (1444, 0.01718473303781935), (1445, 0.01688489008103435), (1446, 0.0), (1447, 0.022643933103434974), (1448, 0.0063859419818933245), (1449, 0.0), (1450, 0.00562879056060712), (1451, 0.0), (1452, 0.0), (1453, 0.0), (1454, 0.0), (1455, 0.0), (1456, 0.012495132364463975), (1457, 0.01602544909847366), (1458, 0.009218405059185638), (1459, 0.005509595653029907), (1460, 0.017227100174813867), (1461, 0.0), (1462, 0.0), (1463, 0.005402941364168776), (1464, 0.0), (1465, 0.005706184920272573), (1466, 0.0), (1467, 0.021756003802586184), (1468, 0.01633696507219169), (1469, 0.012883547009780217), (1470, 0.01579330615347647), (1471, 0.0), (1472, 0.0), (1473, 0.0), (1474, 0.017832138474964957), (1475, 0.0), (1476, 0.0), (1477, 0.0), (1478, 0.0), (1479, 0.018204841005474065), (1480, 0.042412298862937604), (1481, 0.0), (1482, 0.005731490580179132), (1483, 0.0), (1484, 0.014316895670940695), (1485, 0.0), (1486, 0.050897611438661), (1487, 0.0), (1488, 0.018900189393126383), (1489, 0.0), (1490, 0.021779414370572483), (1491, 0.005683546424213405), (1492, 0.0), (1493, 0.0), (1494, 0.0), (1495, 0.015034396176208496), (1496, 0.0), (1497, 0.0), (1498, 0.0), (1499, 0.0), (1500, 0.005957249141015124), (1501, 0.0), (1502, 0.0), (1503, 0.020499393221343715), (1504, 0.0), (1505, 0.010962855937525242), (1506, 0.026343384783593056), (1507, 0.0055555601550606164), (1508, 0.013634914892418845), (1509, 0.0), (1510, 0.005971844150829785), (1511, 0.036328497802381815), (1512, 0.028933729188844435), (1513, 0.005399150663651376), (1514, 0.006196224127528589), (1515, 0.005941850299912537), (1516, 0.019070585147114794), (1517, 0.004827643129626396), (1518, 0.005296248243006992), (1519, 0.0), (1520, 0.0), (1521, 0.0), (1522, 0.0), (1523, 0.024663067511345158), (1524, 0.0), (1525, 0.0), (1526, 0.0), (1527, 0.0), (1528, 0.0), (1529, 0.0), (1530, 0.0), (1531, 0.004975735452855263), (1532, 0.0), (1533, 0.013937245057911652), (1534, 0.0), (1535, 0.010992240138805575), (1536, 0.0), (1537, 0.0), (1538, 0.014577695300534526), (1539, 0.0), (1540, 0.0), (1541, 0.0), (1542, 0.005786349727488746), (1543, 0.03305727287119847), (1544, 0.0), (1545, 0.031312572711928784), (1546, 0.006282027946678387), (1547, 0.0), (1548, 0.017174030203536236), (1549, 0.0), (1550, 0.009731294570022411), (1551, 0.0), (1552, 0.0), (1553, 0.010038485851801185), (1554, 0.030471764912077696), (1555, 0.0), (1556, 0.008964244100280312), (1557, 0.0), (1558, 0.0), (1559, 0.0), (1560, 0.0), (1561, 0.013236557244934846), (1562, 0.0), (1563, 0.0), (1564, 0.0), (1565, 0.0), (1566, 0.015648441091959286), (1567, 0.0), (1568, 0.040112144677921874), (1569, 0.0), (1570, 0.0), (1571, 0.0), (1572, 0.0), (1573, 0.005423143412312428), (1574, 0.0), (1575, 0.01372560995197597), (1576, 0.0), (1577, 0.005457411222504697), (1578, 0.0), (1579, 0.0), (1580, 0.0), (1581, 0.009572671018015694), (1582, 0.016145347707845228), (1583, 0.025805454558666924), (1584, 0.0), (1585, 0.0), (1586, 0.005978132662177248), (1587, 0.0), (1588, 0.014218772255752516), (1589, 0.0), (1590, 0.0), (1591, 0.0), (1592, 0.005871829723461801), (1593, 0.0), (1594, 0.01669846574393423), (1595, 0.0), (1596, 0.015669549472184453), (1597, 0.007596074527080444), (1598, 0.0), (1599, 0.0), (1600, 0.0), (1601, 0.04350177100348004), (1602, 0.060470428844285634), (1603, 0.0), (1604, 0.0), (1605, 0.0), (1606, 0.0), (1607, 0.0), (1608, 0.0048541929712586605), (1609, 0.03918772487142917), (1610, 0.006025140739695763), (1611, 0.004557430787222502), (1612, 0.01603550994649958), (1613, 0.0), (1614, 0.0), (1615, 0.01598266568605749), (1616, 0.005319669030450878), (1617, 0.005787077986367045), (1618, 0.025797662328722118), (1619, 0.0), (1620, 0.0), (1621, 0.0), (1622, 0.0), (1623, 0.0), (1624, 0.0), (1625, 0.015264694096732125), (1626, 0.005262614411210765), (1627, 0.010887869703024336), (1628, 0.006267987978298568), (1629, 0.0), (1630, 0.0), (1631, 0.019886180650228832), (1632, 0.0), (1633, 0.005973969555259905), (1634, 0.0), (1635, 0.015671848915133485), (1636, 0.07683448020119155), (1637, 0.00433532563751204), (1638, 0.0), (1639, 0.009074338706384112), (1640, 0.0), (1641, 0.020873876890161753), (1642, 0.0), (1643, 0.0), (1644, 0.010680089002728146), (1645, 0.005602680117858778), (1646, 0.01720640301982583), (1647, 0.016797134430338045), (1648, 0.0), (1649, 0.0), (1650, 0.010573981439686122), (1651, 0.017021142401238278), (1652, 0.022145135673879296), (1653, 0.015046248994844191), (1654, 0.0), (1655, 0.03259502086198085), (1656, 0.0), (1657, 0.014735610671557767), (1658, 0.0), (1659, 0.025768098281579437), (1660, 0.01002351407832897), (1661, 0.015576230642385433), (1662, 0.0), (1663, 0.02687252602842135), (1664, 0.025809595022403476), (1665, 0.0), (1666, 0.008256026037124012), (1667, 0.0076745035671765775), (1668, 0.014222704851012095), (1669, 0.005932883298227113), (1670, 0.022629013482233465), (1671, 0.021442730424942), (1672, 0.005567646294209679), (1673, 0.0), (1674, 0.010439363475270786), (1675, 0.03334745821377693), (1676, 0.0), (1677, 0.0), (1678, 0.0), (1679, 0.0), (1680, 0.0), (1681, 0.010431627612619997), (1682, 0.0), (1683, 0.0), (1684, 0.0), (1685, 0.0), (1686, 0.00540916991734052), (1687, 0.0), (1688, 0.010526571245208055), (1689, 0.0), (1690, 0.0), (1691, 0.0), (1692, 0.0), (1693, 0.0), (1694, 0.0), (1695, 0.0), (1696, 0.0), (1697, 0.0), (1698, 0.0), (1699, 0.0104327090887502), (1700, 0.0), (1701, 0.06667333623425467), (1702, 0.00584124285736662), (1703, 0.015011113994851326), (1704, 0.0), (1705, 0.0), (1706, 0.01527212994050326), (1707, 0.026724077248372655), (1708, 0.014219657852012922), (1709, 0.0), (1710, 0.0), (1711, 0.0), (1712, 0.0), (1713, 0.00567451272571524), (1714, 0.0), (1715, 0.03549838031374977), (1716, 0.015775728881259422), (1717, 0.0), (1718, 0.0), (1719, 0.0), (1720, 0.005806586354891498), (1721, 0.005311154099696316), (1722, 0.01777066399526309), (1723, 0.0), (1724, 0.01982107984061109), (1725, 0.0), (1726, 0.0), (1727, 0.006884083899303767), (1728, 0.009573593449760474), (1729, 0.0), (1730, 0.0), (1731, 0.0), (1732, 0.0), (1733, 0.006708373493653922), (1734, 0.0), (1735, 0.004929711889260524), (1736, 0.0), (1737, 0.0), (1738, 0.0), (1739, 0.0), (1740, 0.005787901104298607), (1741, 0.0), (1742, 0.05276467777729254), (1743, 0.022968109649238053), (1744, 0.017127612519478832), (1745, 0.014209911283322404), (1746, 0.0), (1747, 0.0), (1748, 0.01089841968687299), (1749, 0.0), (1750, 0.005224253646034836), (1751, 0.0), (1752, 0.0), (1753, 0.005591493302673316), (1754, 0.0), (1755, 0.0), (1756, 0.0), (1757, 0.0059337630749445765), (1758, 0.029437195048109092), (1759, 0.0), (1760, 0.0), (1761, 0.0), (1762, 0.0), (1763, 0.0), (1764, 0.0), (1765, 0.04621497460674379), (1766, 0.0), (1767, 0.012019458214889988), (1768, 0.0), (1769, 0.039938620372320544), (1770, 0.0), (1771, 0.005671486889012329), (1772, 0.0), (1773, 0.0), (1774, 0.0), (1775, 0.0), (1776, 0.0), (1777, 0.044030410016964554), (1778, 0.0), (1779, 0.03773957850130191), (1780, 0.015036783981053493), (1781, 0.009785478855845478), (1782, 0.0), (1783, 0.005993287632692808), (1784, 0.0), (1785, 0.0), (1786, 0.0), (1787, 0.0), (1788, 0.0), (1789, 0.0), (1790, 0.005809621709606512), (1791, 0.0163963279687859), (1792, 0.020246455959099637), (1793, 0.0), (1794, 0.0), (1795, 0.014119635830380742), (1796, 0.0), (1797, 0.0), (1798, 0.0), (1799, 0.0), (1800, 0.009096009130025869), (1801, 0.0), (1802, 0.021433245004146468), (1803, 0.011063376594746016), (1804, 0.0), (1805, 0.011798045397685171), (1806, 0.01693975339538033), (1807, 0.01577600533350262), (1808, 0.020963603066311513), (1809, 0.02511999820228879), (1810, 0.0), (1811, 0.0), (1812, 0.0), (1813, 0.0), (1814, 0.0165298145685098), (1815, 0.005873679259355297), (1816, 0.026519811314117736), (1817, 0.0046212176507868935), (1818, 0.01409944824732593), (1819, 0.0), (1820, 0.0), (1821, 0.022123416893483388), (1822, 0.0), (1823, 0.0), (1824, 0.0), (1825, 0.005551455751322307), (1826, 0.006238333944834709), (1827, 0.005140778981038321), (1828, 0.009515172539589613), (1829, 0.009714832126651753), (1830, 0.005385031586746818), (1831, 0.0), (1832, 0.0), (1833, 0.0), (1834, 0.0), (1835, 0.0), (1836, 0.0061760003469501475), (1837, 0.012658510770963104), (1838, 0.0), (1839, 0.0), (1840, 0.0), (1841, 0.0), (1842, 0.0), (1843, 0.0), (1844, 0.0062000264145711075), (1845, 0.0), (1846, 0.015641690865238297), (1847, 0.03395790002583115), (1848, 0.0), (1849, 0.0), (1850, 0.043179583160864836), (1851, 0.0056440772704068835), (1852, 0.0), (1853, 0.005884825464783309), (1854, 0.021318942687273502), (1855, 0.015085120545311189), (1856, 0.0), (1857, 0.0), (1858, 0.056908457497435304), (1859, 0.0), (1860, 0.017851792661693), (1861, 0.013695472530821075), (1862, 0.0), (1863, 0.0), (1864, 0.0), (1865, 0.0), (1866, 0.0), (1867, 0.0), (1868, 0.01699306166736468), (1869, 0.04981000581041485), (1870, 0.0), (1871, 0.0), (1872, 0.006345669977769913), (1873, 0.012340949657033525), (1874, 0.04528400769924751), (1875, 0.0), (1876, 0.0), (1877, 0.004810272822779098), (1878, 0.0), (1879, 0.0), (1880, 0.0065393028856808215), (1881, 0.0), (1882, 0.04851912814095861), (1883, 0.0), (1884, 0.01089156721352787), (1885, 0.0), (1886, 0.0), (1887, 0.0), (1888, 0.0), (1889, 0.0), (1890, 0.0), (1891, 0.0), (1892, 0.014513410361516415), (1893, 0.0), (1894, 0.0065473230294169045), (1895, 0.0), (1896, 0.021773669603906084), (1897, 0.0742448953072212), (1898, 0.0), (1899, 0.0), (1900, 0.0), (1901, 0.0), (1902, 0.0), (1903, 0.0), (1904, 0.0), (1905, 0.0), (1906, 0.0), (1907, 0.019984766787823287), (1908, 0.005586504579491642), (1909, 0.010498699434164772), (1910, 0.006154858120353455), (1911, 0.0), (1912, 0.0), (1913, 0.0), (1914, 0.0), (1915, 0.010575542787551328), (1916, 0.0), (1917, 0.0), (1918, 0.006163136376165876), (1919, 0.0), (1920, 0.0063470701900119235), (1921, 0.0), (1922, 0.0), (1923, 0.0), (1924, 0.0), (1925, 0.0), (1926, 0.0), (1927, 0.0), (1928, 0.0), (1929, 0.0), (1930, 0.01454693090860943), (1931, 0.0), (1932, 0.006465755595120649), (1933, 0.04567036351779234), (1934, 0.0), (1935, 0.017954261299015728), (1936, 0.005001383431945712), (1937, 0.0), (1938, 0.0), (1939, 0.06592634824513445), (1940, 0.0), (1941, 0.0), (1942, 0.0), (1943, 0.014888710219661096), (1944, 0.015058519293085423), (1945, 0.0182632582168511), (1946, 0.00948408243930125), (1947, 0.0), (1948, 0.0), (1949, 0.0), (1950, 0.0), (1951, 0.0), (1952, 0.010155752060028089), (1953, 0.024189298531918257), (1954, 0.006811720252485562), (1955, 0.014949023235973413), (1956, 0.006290049082483449), (1957, 0.022136032868804806), (1958, 0.0), (1959, 0.016766333773510205), (1960, 0.014570494045656237), (1961, 0.022928290253572497), (1962, 0.008272301355353812), (1963, 0.0), (1964, 0.0), (1965, 0.0), (1966, 0.0), (1967, 0.0), (1968, 0.0), (1969, 0.01681368393560289), (1970, 0.014721689487482637), (1971, 0.03396992097952839), (1972, 0.0), (1973, 0.005661598558552321), (1974, 0.0), (1975, 0.0), (1976, 0.0), (1977, 0.0), (1978, 0.028110767950259203), (1979, 0.0), (1980, 0.0), (1981, 0.0), (1982, 0.0), (1983, 0.04113946459446344), (1984, 0.019401953500368028), (1985, 0.0), (1986, 0.019574306161363745), (1987, 0.0), (1988, 0.0), (1989, 0.0), (1990, 0.006095327598873095), (1991, 0.016891092918338332), (1992, 0.0), (1993, 0.0), (1994, 0.015772898417692117), (1995, 0.048031425043144206), (1996, 0.0), (1997, 0.0), (1998, 0.04938690849636667), (1999, 0.0), (2000, 0.0), (2001, 0.007996724269259584), (2002, 0.006160434384839663), (2003, 0.018583016933543303), (2004, 0.0), (2005, 0.0), (2006, 0.0), (2007, 0.03628503130139539), (2008, 0.009743623459275744), (2009, 0.0), (2010, 0.0), (2011, 0.0), (2012, 0.0), (2013, 0.004902539745350288), (2014, 0.0), (2015, 0.039525927788427985), (2016, 0.0), (2017, 0.0), (2018, 0.0), (2019, 0.0), (2020, 0.03181448171726812), (2021, 0.0), (2022, 0.019979613162155085), (2023, 0.030998469703540067), (2024, 0.0), (2025, 0.0), (2026, 0.007328054210299618), (2027, 0.023364779682493286), (2028, 0.0), (2029, 0.025722704462453762), (2030, 0.0), (2031, 0.0), (2032, 0.0), (2033, 0.0), (2034, 0.01620919261903473), (2035, 0.0), (2036, 0.009032994298947385), (2037, 0.0), (2038, 0.010056280507684787), (2039, 0.0), (2040, 0.0), (2041, 0.0), (2042, 0.031648677288178655), (2043, 0.03749101919548759), (2044, 0.0), (2045, 0.0), (2046, 0.016386643928000273), (2047, 0.006705938893998721), (2048, 0.0), (2049, 0.0), (2050, 0.03403966977587285), (2051, 0.01591718747245485), (2052, 0.0), (2053, 0.0), (2054, 0.0057250288054387566), (2055, 0.0069753205943364925), (2056, 0.0), (2057, 0.04323898442490047), (2058, 0.0), (2059, 0.0), (2060, 0.0), (2061, 0.0), (2062, 0.013722822522589549), (2063, 0.0), (2064, 0.0), (2065, 0.0), (2066, 0.005213410625519023), (2067, 0.0), (2068, 0.0), (2069, 0.043948954877394746), (2070, 0.01859403705363695), (2071, 0.0), (2072, 0.010549474308470261), (2073, 0.0), (2074, 0.06426028183025427), (2075, 0.0), (2076, 0.0), (2077, 0.0), (2078, 0.0), (2079, 0.0), (2080, 0.0), (2081, 0.0), (2082, 0.01754722939784834), (2083, 0.0), (2084, 0.0056646894849686135), (2085, 0.01515117740049282), (2086, 0.0), (2087, 0.0), (2088, 0.041245684477469256), (2089, 0.06292688393160847), (2090, 0.015332495535651903), (2091, 0.009196009325739699), (2092, 0.0), (2093, 0.02515918842354742), (2094, 0.0), (2095, 0.013803062952494064), (2096, 0.0), (2097, 0.0), (2098, 0.0), (2099, 0.01549270276925351), (2100, 0.005645090817482295), (2101, 0.029485269312180495), (2102, 0.0), (2103, 0.0), (2104, 0.013548675201780618), (2105, 0.01605838228519582), (2106, 0.016944260053162925), (2107, 0.0), (2108, 0.025036324602867442), (2109, 0.0), (2110, 0.0), (2111, 0.02543625865897642), (2112, 0.0), (2113, 0.0), (2114, 0.0), (2115, 0.0), (2116, 0.0), (2117, 0.0), (2118, 0.045370312632193856), (2119, 0.0), (2120, 0.0), (2121, 0.0), (2122, 0.006763978849320419), (2123, 0.0), (2124, 0.009800769469065771), (2125, 0.023250821845261088), (2126, 0.0), (2127, 0.01786415300471883), (2128, 0.0), (2129, 0.0), (2130, 0.010093536838692931), (2131, 0.0), (2132, 0.0), (2133, 0.0), (2134, 0.0), (2135, 0.0), (2136, 0.005792578720434253), (2137, 0.0), (2138, 0.03388243431847408), (2139, 0.0), (2140, 0.005856082176532406), (2141, 0.0), (2142, 0.0), (2143, 0.0), (2144, 0.0), (2145, 0.010153007604817308), (2146, 0.0), (2147, 0.0), (2148, 0.0), (2149, 0.0), (2150, 0.0), (2151, 0.0440925866782504), (2152, 0.0), (2153, 0.0), (2154, 0.05976965217655566), (2155, 0.0056979914465713965), (2156, 0.03645957468947796), (2157, 0.005285394881041047), (2158, 0.0), (2159, 0.031132374207554835), (2160, 0.0), (2161, 0.005241561146814981), (2162, 0.0), (2163, 0.005769256500759697), (2164, 0.0), (2165, 0.0371727366989077), (2166, 0.0), (2167, 0.0), (2168, 0.0), (2169, 0.0056194925224088005), (2170, 0.0), (2171, 0.0), (2172, 0.0), (2173, 0.0), (2174, 0.0), (2175, 0.02145756538010227), (2176, 0.0), (2177, 0.0), (2178, 0.0), (2179, 0.0), (2180, 0.0), (2181, 0.03471572900604298), (2182, 0.0), (2183, 0.0), (2184, 0.028720649426092974), (2185, 0.0), (2186, 0.0), (2187, 0.02316654850659127), (2188, 0.0067924414533694225), (2189, 0.0), (2190, 0.0), (2191, 0.0), (2192, 0.0), (2193, 0.010621018169658995), (2194, 0.005240913823954032), (2195, 0.042237779072213294), (2196, 0.009448126753178977), (2197, 0.015958563641398835), (2198, 0.006095092306690072), (2199, 0.0), (2200, 0.03671928255864477), (2201, 0.006722061719362964), (2202, 0.0), (2203, 0.005429940210534079), (2204, 0.02309236569310667), (2205, 0.006825529404372774), (2206, 0.0), (2207, 0.00637996870997275), (2208, 0.0), (2209, 0.004702399015820175), (2210, 0.0), (2211, 0.0), (2212, 0.006294617169424091), (2213, 0.0), (2214, 0.0), (2215, 0.0), (2216, 0.009526237030593809), (2217, 0.0), (2218, 0.017086241130031262), (2219, 0.0), (2220, 0.0), (2221, 0.004955855970457825), (2222, 0.007398742246933764), (2223, 0.0), (2224, 0.0), (2225, 0.04466663534883322), (2226, 0.0), (2227, 0.0), (2228, 0.0), (2229, 0.09917010429740836), (2230, 0.0), (2231, 0.0), (2232, 0.0), (2233, 0.0), (2234, 0.0), (2235, 0.0), (2236, 0.0), (2237, 0.005468217855495), (2238, 0.0), (2239, 0.0), (2240, 0.00943298357336847), (2241, 0.0), (2242, 0.0193923571981192), (2243, 0.0), (2244, 0.005897893844168599), (2245, 0.0), (2246, 0.0297195808827929), (2247, 0.0), (2248, 0.017851150664761214), (2249, 0.035034008434408924), (2250, 0.017090532105202286), (2251, 0.0), (2252, 0.0), (2253, 0.005287335525641862), (2254, 0.02304121008731745), (2255, 0.0059715374835481215), (2256, 0.0), (2257, 0.0), (2258, 0.0), (2259, 0.0), (2260, 0.017663945633950927), (2261, 0.0), (2262, 0.0), (2263, 0.03391036908110133), (2264, 0.005962944131594743), (2265, 0.0), (2266, 0.0), (2267, 0.0), (2268, 0.007087700012988055), (2269, 0.011012362588458884), (2270, 0.0), (2271, 0.0), (2272, 0.0), (2273, 0.0), (2274, 0.0), (2275, 0.03634301442536363), (2276, 0.0), (2277, 0.01688819566384176), (2278, 0.0), (2279, 0.0), (2280, 0.010997738196957596), (2281, 0.03722931769319063), (2282, 0.009600156614538512), (2283, 0.015871857006972), (2284, 0.0), (2285, 0.05758465165214907), (2286, 0.0), (2287, 0.0), (2288, 0.005669450896093324), (2289, 0.0), (2290, 0.0), (2291, 0.014234785003287755), (2292, 0.0), (2293, 0.0), (2294, 0.0), (2295, 0.006102791453963636), (2296, 0.005811864660352075), (2297, 0.0), (2298, 0.0), (2299, 0.0), (2300, 0.0), (2301, 0.024470661483590662), (2302, 0.0), (2303, 0.0), (2304, 0.0), (2305, 0.015401759091155763), (2306, 0.0), (2307, 0.008065569360315212), (2308, 0.0), (2309, 0.0), (2310, 0.0), (2311, 0.0), (2312, 0.0), (2313, 0.01107074515584077), (2314, 0.0), (2315, 0.03755942013605266), (2316, 0.0), (2317, 0.02418023344170283), (2318, 0.01107818919279175), (2319, 0.0), (2320, 0.006213300203842539), (2321, 0.0), (2322, 0.0), (2323, 0.0), (2324, 0.031583024977864485), (2325, 0.0), (2326, 0.0), (2327, 0.005430457226568039), (2328, 0.0), (2329, 0.010473492269399542), (2330, 0.0), (2331, 0.0), (2332, 0.06755819290257074), (2333, 0.0), (2334, 0.0), (2335, 0.0), (2336, 0.007641148428858256), (2337, 0.0), (2338, 0.01148817365315), (2339, 0.0), (2340, 0.00517025631519455), (2341, 0.0), (2342, 0.010795917205009763), (2343, 0.0), (2344, 0.0), (2345, 0.0), (2346, 0.014352759703851456), (2347, 0.0), (2348, 0.0), (2349, 0.0056978590443543175), (2350, 0.0), (2351, 0.0), (2352, 0.006487958101901604), (2353, 0.0), (2354, 0.0), (2355, 0.016104497183875), (2356, 0.0), (2357, 0.004632585192028202), (2358, 0.0), (2359, 0.0), (2360, 0.027980123899480375), (2361, 0.0), (2362, 0.0), (2363, 0.0), (2364, 0.0), (2365, 0.0), (2366, 0.0), (2367, 0.02102510570701693), (2368, 0.0), (2369, 0.0), (2370, 0.0), (2371, 0.07917167598424875), (2372, 0.005822150858156485), (2373, 0.0), (2374, 0.0), (2375, 0.0), (2376, 0.0), (2377, 0.0), (2378, 0.009888385999806903), (2379, 0.0), (2380, 0.005853330567203077), (2381, 0.0), (2382, 0.0), (2383, 0.01544873140174166), (2384, 0.03193123971656582), (2385, 0.0), (2386, 0.00561813691571447), (2387, 0.0), (2388, 0.015346186735012514), (2389, 0.005796434893388995), (2390, 0.01611487204920524), (2391, 0.0), (2392, 0.0), (2393, 0.011916006732186216), (2394, 0.0), (2395, 0.05102445230104964), (2396, 0.0), (2397, 0.0), (2398, 0.017017204688851477), (2399, 0.0), (2400, 0.0), (2401, 0.0), (2402, 0.0), (2403, 0.044400353920786374), (2404, 0.0), (2405, 0.021232568314984875), (2406, 0.0), (2407, 0.012621786601594824), (2408, 0.0161364751393571), (2409, 0.0), (2410, 0.0), (2411, 0.0), (2412, 0.016538139703650825), (2413, 0.0), (2414, 0.0), (2415, 0.015936412863958183), (2416, 0.0), (2417, 0.0), (2418, 0.0), (2419, 0.03411206762291251), (2420, 0.0), (2421, 0.0), (2422, 0.0), (2423, 0.0), (2424, 0.009932061579281464), (2425, 0.0), (2426, 0.0), (2427, 0.0), (2428, 0.010481507377489319), (2429, 0.004976704764202691), (2430, 0.0), (2431, 0.0), (2432, 0.0), (2433, 0.004144511951675371), (2434, 0.0), (2435, 0.06120196739410166), (2436, 0.0), (2437, 0.051036817437707854), (2438, 0.01733499574951889), (2439, 0.03127299882492987), (2440, 0.009228286307424918), (2441, 0.0), (2442, 0.030740074539684626), (2443, 0.0), (2444, 0.02432846972305816), (2445, 0.0), (2446, 0.0), (2447, 0.0), (2448, 0.011016022111078798), (2449, 0.01636866837809651), (2450, 0.016451963237947665), (2451, 0.0), (2452, 0.0), (2453, 0.0), (2454, 0.0), (2455, 0.0), (2456, 0.009312660149892614), (2457, 0.0), (2458, 0.049879972426701516), (2459, 0.0), (2460, 0.0), (2461, 0.0), (2462, 0.08939357986889479), (2463, 0.0), (2464, 0.0), (2465, 0.0), (2466, 0.006519045770302681), (2467, 0.010233680223400024), (2468, 0.0), (2469, 0.0), (2470, 0.013219273789728925), (2471, 0.015944661366780168), (2472, 0.0), (2473, 0.0), (2474, 0.0050918213312616135), (2475, 0.0), (2476, 0.02641823835457923), (2477, 0.0), (2478, 0.009129682258322896), (2479, 0.0), (2480, 0.0), (2481, 0.0), (2482, 0.0), (2483, 0.0), (2484, 0.0), (2485, 0.0), (2486, 0.005311054024388468), (2487, 0.017369380178908517), (2488, 0.0), (2489, 0.0), (2490, 0.005958207999912634), (2491, 0.0), (2492, 0.042293099257460325), (2493, 0.0), (2494, 0.0), (2495, 0.01094426754260017), (2496, 0.0), (2497, 0.0), (2498, 0.0), (2499, 0.0), (2500, 0.0), (2501, 0.0), (2502, 0.010691438959855647), (2503, 0.0), (2504, 0.0), (2505, 0.0), (2506, 0.026050418770962893), (2507, 0.011348456384285532), (2508, 0.01038546086789666), (2509, 0.0), (2510, 0.062260160489674005), (2511, 0.0), (2512, 0.0), (2513, 0.0), (2514, 0.005820107604728902), (2515, 0.02466564369675954), (2516, 0.0), (2517, 0.0), (2518, 0.022827344003198347), (2519, 0.0), (2520, 0.014441890597464518), (2521, 0.005190369892991951), (2522, 0.0), (2523, 0.0), (2524, 0.020075506245510626), (2525, 0.0), (2526, 0.0), (2527, 0.0), (2528, 0.0), (2529, 0.0), (2530, 0.015229409976362391), (2531, 0.0), (2532, 0.0), (2533, 0.0), (2534, 0.0), (2535, 0.07025710687822723), (2536, 0.018708208687809726), (2537, 0.0), (2538, 0.024978552362305142), (2539, 0.0), (2540, 0.0), (2541, 0.13444456097889013), (2542, 0.01221049177871535), (2543, 0.017360113291886498), (2544, 0.0), (2545, 0.02324761077067152), (2546, 0.09818914788750348), (2547, 0.0), (2548, 0.086131181928922), (2549, 0.0), (2550, 0.0), (2551, 0.0), (2552, 0.0), (2553, 0.008537078196438256), (2554, 0.0), (2555, 0.0), (2556, 0.0), (2557, 0.0), (2558, 0.005551002659966901), (2559, 0.0), (2560, 0.015713150300786953), (2561, 0.0), (2562, 0.0), (2563, 0.0), (2564, 0.005333323574985406), (2565, 0.005854169021626993), (2566, 0.0), (2567, 0.0), (2568, 0.0), (2569, 0.010433437395730868), (2570, 0.0), (2571, 0.0), (2572, 0.014303931553816217), (2573, 0.005343024294571656), (2574, 0.0), (2575, 0.0), (2576, 0.0), (2577, 0.0), (2578, 0.005935370665447615), (2579, 0.03231171636631829), (2580, 0.0), (2581, 0.0), (2582, 0.0), (2583, 0.017023472747792555), (2584, 0.0), (2585, 0.0), (2586, 0.006504805972595448), (2587, 0.010671069537620698), (2588, 0.0), (2589, 0.0), (2590, 0.0), (2591, 0.0), (2592, 0.018851186544876046), (2593, 0.010089603474475808), (2594, 0.0), (2595, 0.0), (2596, 0.08050960779638519), (2597, 0.004894482226172648), (2598, 0.0), (2599, 0.0), (2600, 0.0), (2601, 0.0), (2602, 0.0), (2603, 0.0), (2604, 0.03973198049134114), (2605, 0.0), (2606, 0.015519140481875023), (2607, 0.0), (2608, 0.0), (2609, 0.03873505344896304), (2610, 0.0), (2611, 0.0), (2612, 0.0), (2613, 0.0), (2614, 0.0), (2615, 0.01853940763023411), (2616, 0.0), (2617, 0.0), (2618, 0.0), (2619, 0.01571939867561962), (2620, 0.0), (2621, 0.026209612109397165), (2622, 0.0), (2623, 0.008906511608473004), (2624, 0.013217601528260191), (2625, 0.040347341120387986), (2626, 0.0), (2627, 0.0), (2628, 0.0), (2629, 0.0), (2630, 0.01816953249725891), (2631, 0.0), (2632, 0.010419763880417359), (2633, 0.0), (2634, 0.0), (2635, 0.0), (2636, 0.0), (2637, 0.0), (2638, 0.0), (2639, 0.005219177580860697), (2640, 0.015874873839783518), (2641, 0.0053022408028168605), (2642, 0.010692270430843757), (2643, 0.0), (2644, 0.006252689945531003), (2645, 0.005718251806392825), (2646, 0.0064829401312488065), (2647, 0.009178308114115378), (2648, 0.0), (2649, 0.0), (2650, 0.006616744216947322), (2651, 0.0), (2652, 0.0), (2653, 0.0), (2654, 0.016899031653540557), (2655, 0.006541233767060971), (2656, 0.0), (2657, 0.017686172102712477), (2658, 0.0), (2659, 0.013441602388928985), (2660, 0.0), (2661, 0.0), (2662, 0.0), (2663, 0.0), (2664, 0.0), (2665, 0.0), (2666, 0.0), (2667, 0.01295489754003774), (2668, 0.0), (2669, 0.014629676094177401), (2670, 0.0), (2671, 0.0), (2672, 0.0), (2673, 0.0), (2674, 0.033245979727644356), (2675, 0.005623731412881122), (2676, 0.0), (2677, 0.0), (2678, 0.0055861553907032065), (2679, 0.0), (2680, 0.0), (2681, 0.005303633754619338), (2682, 0.036985180202504395), (2683, 0.005695014260532499), (2684, 0.0), (2685, 0.0), (2686, 0.0), (2687, 0.0), (2688, 0.025007925087269393), (2689, 0.0), (2690, 0.016899033746255156), (2691, 0.0), (2692, 0.009448254839602295), (2693, 0.0), (2694, 0.0), (2695, 0.0), (2696, 0.0), (2697, 0.0), (2698, 0.0), (2699, 0.0), (2700, 0.0), (2701, 0.0), (2702, 0.0), (2703, 0.0), (2704, 0.004937748646918941), (2705, 0.03204025622566616), (2706, 0.0), (2707, 0.0), (2708, 0.008445209314437895), (2709, 0.02143208646336026), (2710, 0.0), (2711, 0.0), (2712, 0.0), (2713, 0.0), (2714, 0.0), (2715, 0.0), (2716, 0.0), (2717, 0.025836937684227037), (2718, 0.015261826211652037), (2719, 0.01890594558982961), (2720, 0.018976806025670808), (2721, 0.0), (2722, 0.0), (2723, 0.0), (2724, 0.0), (2725, 0.0), (2726, 0.013962770529097472), (2727, 0.0), (2728, 0.02967138306230579), (2729, 0.0), (2730, 0.020711122854396285), (2731, 0.0), (2732, 0.0), (2733, 0.0), (2734, 0.0), (2735, 0.0484510151995625), (2736, 0.014013915739310271), (2737, 0.0), (2738, 0.0), (2739, 0.0), (2740, 0.0), (2741, 0.039292782108792765), (2742, 0.0), (2743, 0.017096752051264492), (2744, 0.0), (2745, 0.0), (2746, 0.0), (2747, 0.02131036947404455), (2748, 0.02548292299928838), (2749, 0.0), (2750, 0.008679545509335366), (2751, 0.0), (2752, 0.0), (2753, 0.0), (2754, 0.0), (2755, 0.0), (2756, 0.013902437336598931), (2757, 0.004478410443266485), (2758, 0.0), (2759, 0.0), (2760, 0.0), (2761, 0.0), (2762, 0.009454751297377812), (2763, 0.026024622035543066), (2764, 0.0), (2765, 0.0), (2766, 0.0), (2767, 0.010831234903846463), (2768, 0.0), (2769, 0.0), (2770, 0.0), (2771, 0.019353052472676862), (2772, 0.0), (2773, 0.0), (2774, 0.02358208823695981), (2775, 0.06644681059268492), (2776, 0.01813354896720992), (2777, 0.021077082152135208), (2778, 0.0), (2779, 0.0), (2780, 0.0), (2781, 0.03642276250772646), (2782, 0.0), (2783, 0.009114097559739761), (2784, 0.0), (2785, 0.005860543170702227), (2786, 0.0), (2787, 0.0), (2788, 0.025770033714005297), (2789, 0.017143790017555567), (2790, 0.015298738086388857), (2791, 0.0), (2792, 0.010024189130679418), (2793, 0.024530613534432612), (2794, 0.0131231673130346), (2795, 0.0), (2796, 0.0), (2797, 0.01600676693456398), (2798, 0.0), (2799, 0.010026009623733602), (2800, 0.0), (2801, 0.009842474987675265), (2802, 0.0), (2803, 0.0848788296448164), (2804, 0.010351042957919694), (2805, 0.0), (2806, 0.004815713026927207), (2807, 0.0), (2808, 0.0), (2809, 0.0), (2810, 0.0), (2811, 0.0), (2812, 0.006009536075492964), (2813, 0.0), (2814, 0.0), (2815, 0.0052834631651845826), (2816, 0.0), (2817, 0.0), (2818, 0.00892921333802654), (2819, 0.005104485048271163), (2820, 0.0), (2821, 0.0), (2822, 0.008636754374064028), (2823, 0.020373755706370695), (2824, 0.0), (2825, 0.0), (2826, 0.01831251670788897), (2827, 0.006052287850028399), (2828, 0.0), (2829, 0.0), (2830, 0.0), (2831, 0.0), (2832, 0.0), (2833, 0.0), (2834, 0.0), (2835, 0.0), (2836, 0.01566439366551805), (2837, 0.0), (2838, 0.0), (2839, 0.0), (2840, 0.0), (2841, 0.0), (2842, 0.0), (2843, 0.0), (2844, 0.0), (2845, 0.0), (2846, 0.0), (2847, 0.0), (2848, 0.0), (2849, 0.0), (2850, 0.0), (2851, 0.0), (2852, 0.0), (2853, 0.004928385913790685), (2854, 0.0), (2855, 0.0), (2856, 0.0), (2857, 0.0), (2858, 0.0108075387930399), (2859, 0.0), (2860, 0.005065337729937183), (2861, 0.0), (2862, 0.035259349461959376), (2863, 0.00621588832585601), (2864, 0.0), (2865, 0.03643923871091079), (2866, 0.0), (2867, 0.008126724468417492), (2868, 0.004708952172690232), (2869, 0.0), (2870, 0.02181822916374752), (2871, 0.0), (2872, 0.0), (2873, 0.0), (2874, 0.0), (2875, 0.019171056405401152), (2876, 0.0), (2877, 0.0), (2878, 0.030652697613334685), (2879, 0.0), (2880, 0.0), (2881, 0.0), (2882, 0.0), (2883, 0.0), (2884, 0.0), (2885, 0.011897485953508629), (2886, 0.0), (2887, 0.0), (2888, 0.00904535201134704), (2889, 0.0), (2890, 0.0), (2891, 0.014203582672166516), (2892, 0.0), (2893, 0.0), (2894, 0.0), (2895, 0.0), (2896, 0.0), (2897, 0.05203060147508321), (2898, 0.0), (2899, 0.007369654755922505), (2900, 0.0), (2901, 0.0), (2902, 0.0), (2903, 0.0), (2904, 0.0), (2905, 0.0), (2906, 0.0), (2907, 0.0), (2908, 0.0), (2909, 0.0), (2910, 0.0), (2911, 0.0), (2912, 0.02232776190723359), (2913, 0.0), (2914, 0.0), (2915, 0.010467917450746756), (2916, 0.0), (2917, 0.0), (2918, 0.006041948896636731), (2919, 0.0), (2920, 0.028082546619357423), (2921, 0.007066840345136886), (2922, 0.0), (2923, 0.0), (2924, 0.0), (2925, 0.0), (2926, 0.0), (2927, 0.022078967449028573), (2928, 0.0), (2929, 0.0), (2930, 0.0), (2931, 0.00705085459299071), (2932, 0.0), (2933, 0.0), (2934, 0.0), (2935, 0.035570172453969144), (2936, 0.0), (2937, 0.0), (2938, 0.0), (2939, 0.0), (2940, 0.0), (2941, 0.0), (2942, 0.0), (2943, 0.0), (2944, 0.018543485250040005), (2945, 0.0), (2946, 0.0), (2947, 0.0), (2948, 0.01068182999690718), (2949, 0.0), (2950, 0.0), (2951, 0.0), (2952, 0.0), (2953, 0.0), (2954, 0.0), (2955, 0.0), (2956, 0.0), (2957, 0.03577178327387789), (2958, 0.0), (2959, 0.016829824219034235), (2960, 0.0), (2961, 0.024787960897567095), (2962, 0.0), (2963, 0.0), (2964, 0.016684636593228115), (2965, 0.0), (2966, 0.0), (2967, 0.0), (2968, 0.0), (2969, 0.0), (2970, 0.0), (2971, 0.0), (2972, 0.007407445456455363), (2973, 0.0), (2974, 0.0), (2975, 0.0), (2976, 0.0), (2977, 0.0), (2978, 0.00546258189036829), (2979, 0.0), (2980, 0.006253783538785647), (2981, 0.043601622235558295), (2982, 0.0), (2983, 0.01727718149418728), (2984, 0.0), (2985, 0.014064960135863648), (2986, 0.019075950001574325), (2987, 0.0), (2988, 0.02318352894111064), (2989, 0.0), (2990, 0.0), (2991, 0.016518134098862252), (2992, 0.0), (2993, 0.0), (2994, 0.023283801318274146), (2995, 0.005855767219027913), (2996, 0.00572858134044609), (2997, 0.0), (2998, 0.0), (2999, 0.0), (3000, 0.0), (3001, 0.0048282647784467685), (3002, 0.0), (3003, 0.0), (3004, 0.0), (3005, 0.0), (3006, 0.0), (3007, 0.004814019522612421), (3008, 0.013789655294885546), (3009, 0.0), (3010, 0.020750757410787288), (3011, 0.0), (3012, 0.05822817073003908), (3013, 0.0), (3014, 0.0), (3015, 0.023524736548451355), (3016, 0.0), (3017, 0.0), (3018, 0.0), (3019, 0.0), (3020, 0.0060807850914449384), (3021, 0.006617420653339285), (3022, 0.0), (3023, 0.0), (3024, 0.0), (3025, 0.0), (3026, 0.0), (3027, 0.0), (3028, 0.0), (3029, 0.005728252919970699), (3030, 0.005621135649201706), (3031, 0.0), (3032, 0.0), (3033, 0.05946727835381789), (3034, 0.0), (3035, 0.022439942837367118), (3036, 0.0), (3037, 0.0), (3038, 0.03575523027456212), (3039, 0.0), (3040, 0.015564819464902641), (3041, 0.0), (3042, 0.0), (3043, 0.0), (3044, 0.0), (3045, 0.0), (3046, 0.0), (3047, 0.0), (3048, 0.010192193337261011), (3049, 0.0), (3050, 0.00999538762779348), (3051, 0.006847129374863456), (3052, 0.009893388206694772), (3053, 0.0), (3054, 0.015828502895545726), (3055, 0.0), (3056, 0.0), (3057, 0.0), (3058, 0.0), (3059, 0.0), (3060, 0.0), (3061, 0.0), (3062, 0.015910543105225276), (3063, 0.0), (3064, 0.0), (3065, 0.0), (3066, 0.0), (3067, 0.0), (3068, 0.0), (3069, 0.0), (3070, 0.0), (3071, 0.0), (3072, 0.0), (3073, 0.014624565346000446), (3074, 0.015195620375312208), (3075, 0.0), (3076, 0.0), (3077, 0.006504699126473365), (3078, 0.0), (3079, 0.0), (3080, 0.0), (3081, 0.0), (3082, 0.0), (3083, 0.0), (3084, 0.0), (3085, 0.0), (3086, 0.005497271218994553), (3087, 0.008383156051335348), (3088, 0.010597249270307519), (3089, 0.006669139254827019), (3090, 0.0), (3091, 0.008457914764208898), (3092, 0.0), (3093, 0.008648835804671313), (3094, 0.0), (3095, 0.0), (3096, 0.0), (3097, 0.0), (3098, 0.006104178919243171), (3099, 0.004948623621222821), (3100, 0.0), (3101, 0.011295377733741684), (3102, 0.0), (3103, 0.0), (3104, 0.0), (3105, 0.026648356282882136), (3106, 0.015284777287420231), (3107, 0.0), (3108, 0.0), (3109, 0.0), (3110, 0.0), (3111, 0.0), (3112, 0.0), (3113, 0.0), (3114, 0.0), (3115, 0.0), (3116, 0.0), (3117, 0.0), (3118, 0.0), (3119, 0.024662371995593586), (3120, 0.0), (3121, 0.0), (3122, 0.020738688158525004), (3123, 0.009349604108964366), (3124, 0.0), (3125, 0.0), (3126, 0.0), (3127, 0.0), (3128, 0.006540939165392007), (3129, 0.0), (3130, 0.0), (3131, 0.0), (3132, 0.0), (3133, 0.0048743077731643394), (3134, 0.0), (3135, 0.0), (3136, 0.005319104794948302), (3137, 0.0), (3138, 0.005409361952983891), (3139, 0.0), (3140, 0.0), (3141, 0.06494599902488021), (3142, 0.1286725213464638), (3143, 0.0046119097166406), (3144, 0.006778238318029135), (3145, 0.0), (3146, 0.0), (3147, 0.0), (3148, 0.005289480879373961), (3149, 0.0), (3150, 0.02670526602431861), (3151, 0.005720743811520013), (3152, 0.0), (3153, 0.006132983526239111), (3154, 0.0069054088121873166), (3155, 0.0), (3156, 0.0), (3157, 0.0), (3158, 0.005344667361588344), (3159, 0.01562750169915253), (3160, 0.0), (3161, 0.032728392914009315), (3162, 0.005211965763856315), (3163, 0.0), (3164, 0.0), (3165, 0.04692759500747437), (3166, 0.0), (3167, 0.0), (3168, 0.0), (3169, 0.009031902459974494), (3170, 0.013979534787006588), (3171, 0.0), (3172, 0.0), (3173, 0.09819892514077086), (3174, 0.0), (3175, 0.019086205166149714), (3176, 0.0), (3177, 0.01972243564939138), (3178, 0.0), (3179, 0.0), (3180, 0.017941835797992474), (3181, 0.0), (3182, 0.0), (3183, 0.0), (3184, 0.005604814046142046), (3185, 0.0), (3186, 0.0), (3187, 0.0), (3188, 0.0), (3189, 0.0), (3190, 0.0), (3191, 0.0), (3192, 0.0), (3193, 0.0), (3194, 0.0), (3195, 0.0), (3196, 0.0), (3197, 0.010052965988828454), (3198, 0.03541495569734947), (3199, 0.011392303090818866), (3200, 0.0), (3201, 0.039234624796192046), (3202, 0.016929654721374254), (3203, 0.0), (3204, 0.0), (3205, 0.0), (3206, 0.0), (3207, 0.010643675009099336), (3208, 0.006443825582553553), (3209, 0.005162192315231534), (3210, 0.02599476913454176), (3211, 0.032689655535685605), (3212, 0.0), (3213, 0.0), (3214, 0.0), (3215, 0.0), (3216, 0.0), (3217, 0.0), (3218, 0.0), (3219, 0.0), (3220, 0.0), (3221, 0.005593159586978451), (3222, 0.017710955662245627), (3223, 0.0), (3224, 0.05793061069375762), (3225, 0.0), (3226, 0.0), (3227, 0.020834465893398955), (3228, 0.0), (3229, 0.0), (3230, 0.01877244014909855), (3231, 0.0), (3232, 0.0), (3233, 0.0), (3234, 0.03369147188653053), (3235, 0.015150158519945799), (3236, 0.0), (3237, 0.0), (3238, 0.03137661820984559), (3239, 0.03160859739890665), (3240, 0.0), (3241, 0.0), (3242, 0.00933000370785608), (3243, 0.0), (3244, 0.010667386802990215), (3245, 0.0), (3246, 0.0), (3247, 0.0), (3248, 0.0), (3249, 0.0), (3250, 0.0), (3251, 0.005026236822679759), (3252, 0.0), (3253, 0.0), (3254, 0.04374142705389908), (3255, 0.0), (3256, 0.0), (3257, 0.0), (3258, 0.0), (3259, 0.005466924041987915), (3260, 0.005937727315715554), (3261, 0.0), (3262, 0.0), (3263, 0.0), (3264, 0.0), (3265, 0.0), (3266, 0.0), (3267, 0.0), (3268, 0.0), (3269, 0.0), (3270, 0.0), (3271, 0.0), (3272, 0.0), (3273, 0.008858548667871943), (3274, 0.06363027293891967), (3275, 0.008162052340137626), (3276, 0.0), (3277, 0.0), (3278, 0.0), (3279, 0.0), (3280, 0.0), (3281, 0.0), (3282, 0.0), (3283, 0.0), (3284, 0.006849093456654281), (3285, 0.027220640247587597), (3286, 0.0), (3287, 0.01224113864462838), (3288, 0.0), (3289, 0.0), (3290, 0.005689997455316033), (3291, 0.009410175755845674), (3292, 0.0), (3293, 0.025339642327771326), (3294, 0.010586302936045913), (3295, 0.0), (3296, 0.027946076128884917), (3297, 0.07258095553203014), (3298, 0.0), (3299, 0.006985077602978718), (3300, 0.0), (3301, 0.0), (3302, 0.0), (3303, 0.0), (3304, 0.0073544670613867125), (3305, 0.005190929386645885), (3306, 0.017935667800166706), (3307, 0.0), (3308, 0.0), (3309, 0.043887414231182), (3310, 0.0), (3311, 0.0), (3312, 0.0), (3313, 0.0), (3314, 0.0), (3315, 0.028283863081432693), (3316, 0.016660743969050373), (3317, 0.0), (3318, 0.0060039381567763405), (3319, 0.0), (3320, 0.0), (3321, 0.0), (3322, 0.010314749488478155), (3323, 0.008735284313050394), (3324, 0.0), (3325, 0.0), (3326, 0.006990064459722834), (3327, 0.0), (3328, 0.0), (3329, 0.0), (3330, 0.0), (3331, 0.0), (3332, 0.011161002143802745), (3333, 0.0), (3334, 0.01813413644072192), (3335, 0.0), (3336, 0.00568285059932051), (3337, 0.02417030114337561), (3338, 0.0), (3339, 0.0), (3340, 0.0), (3341, 0.0), (3342, 0.0), (3343, 0.0060666155726918), (3344, 0.0), (3345, 0.015855083716005882), (3346, 0.0), (3347, 0.0), (3348, 0.009996747067720371), (3349, 0.03664106748027829), (3350, 0.004969460538463125), (3351, 0.005373968245503574), (3352, 0.03647164359518213), (3353, 0.0), (3354, 0.0), (3355, 0.0), (3356, 0.0), (3357, 0.0), (3358, 0.008472294431612376), (3359, 0.00802687358716134), (3360, 0.0), (3361, 0.006436836380086188), (3362, 0.0), (3363, 0.0), (3364, 0.020488804606867736), (3365, 0.0), (3366, 0.0), (3367, 0.0), (3368, 0.0), (3369, 0.0), (3370, 0.005186778354898364), (3371, 0.021442289299878955), (3372, 0.005723976796221299), (3373, 0.007182413664846044), (3374, 0.014928878253263896), (3375, 0.0), (3376, 0.0), (3377, 0.0), (3378, 0.0), (3379, 0.015674100453887074), (3380, 0.0), (3381, 0.0), (3382, 0.005823432197648252), (3383, 0.01898724118299281), (3384, 0.0), (3385, 0.006559492643026612), (3386, 0.01593433918688614), (3387, 0.0), (3388, 0.0), (3389, 0.0), (3390, 0.012870588170806475), (3391, 0.01916771605313629), (3392, 0.0), (3393, 0.022711229379603324), (3394, 0.0), (3395, 0.017432891183282898), (3396, 0.0), (3397, 0.012044146440417266), (3398, 0.0), (3399, 0.0052907822958871515), (3400, 0.011112119560260404), (3401, 0.0), (3402, 0.0), (3403, 0.0), (3404, 0.0), (3405, 0.0), (3406, 0.024226873531628373), (3407, 0.0), (3408, 0.0), (3409, 0.018656780787859997), (3410, 0.0), (3411, 0.0), (3412, 0.00640460858123212), (3413, 0.0), (3414, 0.02130417745999493), (3415, 0.0), (3416, 0.014734926953803962), (3417, 0.004626659339685093), (3418, 0.0), (3419, 0.0), (3420, 0.05506643516782399), (3421, 0.0), (3422, 0.0), (3423, 0.0), (3424, 0.0050607469600116375), (3425, 0.008411627670319704), (3426, 0.0), (3427, 0.0), (3428, 0.0), (3429, 0.0), (3430, 0.0), (3431, 0.0), (3432, 0.0), (3433, 0.0), (3434, 0.0), (3435, 0.0), (3436, 0.03523862288730474), (3437, 0.007778206062767033), (3438, 0.0), (3439, 0.02396817208161971), (3440, 0.0), (3441, 0.0), (3442, 0.0), (3443, 0.0), (3444, 0.0633929093680352), (3445, 0.0), (3446, 0.0), (3447, 0.015940454319109065), (3448, 0.0), (3449, 0.0), (3450, 0.057384973204352166), (3451, 0.0), (3452, 0.0), (3453, 0.0), (3454, 0.009545720098531125), (3455, 0.0), (3456, 0.0), (3457, 0.0), (3458, 0.0), (3459, 0.0), (3460, 0.025843643186169215), (3461, 0.0), (3462, 0.015366038781394656), (3463, 0.016741474324227328), (3464, 0.01973700947021003), (3465, 0.0), (3466, 0.027208219625575947), (3467, 0.009444463566731192), (3468, 0.0), (3469, 0.019006123251665275), (3470, 0.009232892973902642), (3471, 0.0), (3472, 0.015708294358473117), (3473, 0.0), (3474, 0.015302462991270967), (3475, 0.0093227117228531), (3476, 0.0), (3477, 0.004992928426738605), (3478, 0.0), (3479, 0.015321211311146977), (3480, 0.0), (3481, 0.014514136477332889), (3482, 0.0), (3483, 0.021592594270345163), (3484, 0.0), (3485, 0.0), (3486, 0.0), (3487, 0.0), (3488, 0.012276145075218877), (3489, 0.0), (3490, 0.0), (3491, 0.0), (3492, 0.0), (3493, 0.021821531670777158), (3494, 0.02662766815414519), (3495, 0.0), (3496, 0.0), (3497, 0.0), (3498, 0.0), (3499, 0.0), (3500, 0.008468258555784116), (3501, 0.015222282875442668), (3502, 0.0), (3503, 0.0), (3504, 0.010845392640524398), (3505, 0.004891024962957056), (3506, 0.01086273486154665), (3507, 0.010711064182630865), (3508, 0.0), (3509, 0.006951958788214018), (3510, 0.0), (3511, 0.0), (3512, 0.0), (3513, 0.0), (3514, 0.0), (3515, 0.0), (3516, 0.019660882340963002), (3517, 0.0), (3518, 0.015125286140085334), (3519, 0.0), (3520, 0.0), (3521, 0.0), (3522, 0.04179647869787263), (3523, 0.006640345726478987), (3524, 0.0), (3525, 0.0), (3526, 0.061191015169729135), (3527, 0.0), (3528, 0.0), (3529, 0.0), (3530, 0.0), (3531, 0.0), (3532, 0.0), (3533, 0.01781271167076796), (3534, 0.0), (3535, 0.0158684982640451), (3536, 0.017584658047424102), (3537, 0.010730005678098896), (3538, 0.0), (3539, 0.02460142958845336), (3540, 0.0), (3541, 0.010534527742753935), (3542, 0.0), (3543, 0.0), (3544, 0.0), (3545, 0.006044708035116147), (3546, 0.013973096479650081), (3547, 0.0), (3548, 0.0), (3549, 0.0), (3550, 0.0), (3551, 0.0), (3552, 0.017931289398222493), (3553, 0.013192695446455027), (3554, 0.0), (3555, 0.0), (3556, 0.0), (3557, 0.025362440460287954), (3558, 0.0), (3559, 0.0), (3560, 0.0), (3561, 0.0), (3562, 0.0), (3563, 0.0), (3564, 0.0), (3565, 0.0), (3566, 0.0), (3567, 0.010513803909166345), (3568, 0.01601298595575408), (3569, 0.0), (3570, 0.0), (3571, 0.0), (3572, 0.0), (3573, 0.0), (3574, 0.0), (3575, 0.0), (3576, 0.0), (3577, 0.0), (3578, 0.022638980459039188), (3579, 0.004771596975836765), (3580, 0.0), (3581, 0.0), (3582, 0.0), (3583, 0.0), (3584, 0.005433056676505623), (3585, 0.0), (3586, 0.0), (3587, 0.0), (3588, 0.0), (3589, 0.0), (3590, 0.0), (3591, 0.014944800943235782), (3592, 0.0), (3593, 0.0), (3594, 0.0), (3595, 0.015005086725526756), (3596, 0.033479964999053625), (3597, 0.0), (3598, 0.0), (3599, 0.009111418305101086), (3600, 0.0), (3601, 0.0), (3602, 0.013611020143225527), (3603, 0.013687136043401129), (3604, 0.0), (3605, 0.0), (3606, 0.058414184858281155), (3607, 0.005420102228515472), (3608, 0.0), (3609, 0.0), (3610, 0.0), (3611, 0.0), (3612, 0.0), (3613, 0.0), (3614, 0.0), (3615, 0.007671685120483106), (3616, 0.006361603292280716), (3617, 0.005499639751442009), (3618, 0.007027389972137147), (3619, 0.0), (3620, 0.0), (3621, 0.0), (3622, 0.011598611157326617), (3623, 0.01878710211227385), (3624, 0.0), (3625, 0.0), (3626, 0.0), (3627, 0.0), (3628, 0.0), (3629, 0.0), (3630, 0.014383733436757484), (3631, 0.00941125640706676), (3632, 0.0), (3633, 0.0), (3634, 0.011596571035134978), (3635, 0.0), (3636, 0.0), (3637, 0.012452902638529778), (3638, 0.0), (3639, 0.0), (3640, 0.009874408869650662), (3641, 0.017525265082713123), (3642, 0.0), (3643, 0.009101431286216492), (3644, 0.019258498040043818), (3645, 0.0), (3646, 0.0), (3647, 0.0), (3648, 0.0), (3649, 0.0), (3650, 0.006647702373253236), (3651, 0.0), (3652, 0.0), (3653, 0.0), (3654, 0.0), (3655, 0.0), (3656, 0.0), (3657, 0.0), (3658, 0.010190173207055054), (3659, 0.017619594305975955), (3660, 0.0), (3661, 0.0), (3662, 0.0), (3663, 0.0), (3664, 0.028467271514786452), (3665, 0.012502875704227557), (3666, 0.0), (3667, 0.006190436244333706), (3668, 0.005774147607499098), (3669, 0.018911044541012202), (3670, 0.0), (3671, 0.0), (3672, 0.042532470599954596), (3673, 0.0), (3674, 0.0), (3675, 0.0), (3676, 0.0), (3677, 0.0), (3678, 0.0), (3679, 0.0), (3680, 0.0), (3681, 0.02719148129326555), (3682, 0.0), (3683, 0.0), (3684, 0.0), (3685, 0.0), (3686, 0.0), (3687, 0.0), (3688, 0.0), (3689, 0.006366905543172648), (3690, 0.0), (3691, 0.0), (3692, 0.0), (3693, 0.0), (3694, 0.0), (3695, 0.0), (3696, 0.023407528280659312), (3697, 0.0), (3698, 0.0), (3699, 0.027333616287263128), (3700, 0.00979735867218926), (3701, 0.01146771772259384), (3702, 0.0), (3703, 0.0), (3704, 0.0), (3705, 0.0), (3706, 0.01825899399542235), (3707, 0.00629850519154379), (3708, 0.0), (3709, 0.008546294757322681), (3710, 0.01958517988510821), (3711, 0.013338149325186649), (3712, 0.0), (3713, 0.0), (3714, 0.02119738703048128), (3715, 0.005738928271230773), (3716, 0.010283625836896137), (3717, 0.0), (3718, 0.0), (3719, 0.0), (3720, 0.0), (3721, 0.0), (3722, 0.005122507933088396), (3723, 0.0), (3724, 0.0), (3725, 0.00611517121989009), (3726, 0.010515405792236124), (3727, 0.0), (3728, 0.0), (3729, 0.0), (3730, 0.0), (3731, 0.0), (3732, 0.0), (3733, 0.0051301901042603), (3734, 0.05148563341067323), (3735, 0.0), (3736, 0.0), (3737, 0.0), (3738, 0.0), (3739, 0.017644208652001937), (3740, 0.006524097683608959), (3741, 0.0), (3742, 0.0), (3743, 0.02577452712609133), (3744, 0.0), (3745, 0.0), (3746, 0.03564905630634297), (3747, 0.0), (3748, 0.0), (3749, 0.005554507411819852), (3750, 0.0), (3751, 0.0), (3752, 0.0), (3753, 0.0437347233897887), (3754, 0.0), (3755, 0.0051632386911449335), (3756, 0.006573624493010696), (3757, 0.03059169696485265), (3758, 0.01900264518465581), (3759, 0.0), (3760, 0.0), (3761, 0.0), (3762, 0.0), (3763, 0.0), (3764, 0.004863144339177679), (3765, 0.0), (3766, 0.018708682785788716), (3767, 0.0), (3768, 0.0), (3769, 0.0), (3770, 0.0), (3771, 0.0), (3772, 0.023866085007793393), (3773, 0.018299309325398833), (3774, 0.006617192752828233), (3775, 0.0), (3776, 0.0), (3777, 0.03871636963130874), (3778, 0.0), (3779, 0.0), (3780, 0.0), (3781, 0.0), (3782, 0.011946934729929273), (3783, 0.0), (3784, 0.00975687941765126), (3785, 0.010656276631738865), (3786, 0.0), (3787, 0.0), (3788, 0.0), (3789, 0.00941455328174379), (3790, 0.0), (3791, 0.0), (3792, 0.0), (3793, 0.0), (3794, 0.0), (3795, 0.006004898586787951), (3796, 0.0), (3797, 0.0), (3798, 0.0), (3799, 0.041831009722364566), (3800, 0.0), (3801, 0.0), (3802, 0.0), (3803, 0.0), (3804, 0.0046007804125116035), (3805, 0.0), (3806, 0.0), (3807, 0.0), (3808, 0.0), (3809, 0.0), (3810, 0.0), (3811, 0.016050229791865173), (3812, 0.0181227982743874), (3813, 0.01839400696001642), (3814, 0.0), (3815, 0.0), (3816, 0.006307222982868261), (3817, 0.01025155086567098), (3818, 0.0), (3819, 0.006205472630098903), (3820, 0.0), (3821, 0.01541901686451005), (3822, 0.0), (3823, 0.0), (3824, 0.0), (3825, 0.020255239923481758), (3826, 0.0), (3827, 0.0), (3828, 0.0058030659311260405), (3829, 0.0), (3830, 0.006242544594087837), (3831, 0.049871565105716054), (3832, 0.0), (3833, 0.03333827633074805), (3834, 0.009421606121106225), (3835, 0.0), (3836, 0.0065254232366647345), (3837, 0.014343768588921875), (3838, 0.0), (3839, 0.009812008507779664), (3840, 0.0), (3841, 0.0), (3842, 0.0060964416605011635), (3843, 0.0), (3844, 0.0), (3845, 0.0), (3846, 0.0), (3847, 0.0), (3848, 0.0961257223142041), (3849, 0.011209790204249954), (3850, 0.010100452793381278), (3851, 0.029326708281191823), (3852, 0.0), (3853, 0.0), (3854, 0.0050249871664177475), (3855, 0.0), (3856, 0.00627525854521539), (3857, 0.007688805110308822), (3858, 0.029497437014140385), (3859, 0.02015031194970624), (3860, 0.0), (3861, 0.0), (3862, 0.015770515269025124), (3863, 0.0), (3864, 0.0), (3865, 0.0), (3866, 0.025428641121970602), (3867, 0.0), (3868, 0.0), (3869, 0.026535703623545223), (3870, 0.0), (3871, 0.0), (3872, 0.01446942700330009), (3873, 0.016096619413223955), (3874, 0.013374191924973503), (3875, 0.0), (3876, 0.0), (3877, 0.0), (3878, 0.031138044859269347), (3879, 0.0), (3880, 0.0), (3881, 0.0), (3882, 0.006609625397174409), (3883, 0.0), (3884, 0.00479799986840126), (3885, 0.0), (3886, 0.0), (3887, 0.01750332246344226), (3888, 0.0), (3889, 0.0), (3890, 0.0), (3891, 0.0), (3892, 0.0), (3893, 0.0), (3894, 0.0), (3895, 0.009227794633755426), (3896, 0.026607972921235068), (3897, 0.02495027759896123), (3898, 0.015229945499473038), (3899, 0.0), (3900, 0.0), (3901, 0.006248689768717799), (3902, 0.0), (3903, 0.0), (3904, 0.0), (3905, 0.010263773096107546), (3906, 0.0), (3907, 0.0), (3908, 0.016173214631387902), (3909, 0.0), (3910, 0.0), (3911, 0.0), (3912, 0.007597226449260498), (3913, 0.0), (3914, 0.0), (3915, 0.0), (3916, 0.0), (3917, 0.0), (3918, 0.0), (3919, 0.0), (3920, 0.0056613651162990665), (3921, 0.0), (3922, 0.0), (3923, 0.0), (3924, 0.0), (3925, 0.037565689396187235), (3926, 0.0), (3927, 0.0), (3928, 0.0), (3929, 0.0), (3930, 0.0), (3931, 0.0), (3932, 0.0), (3933, 0.0), (3934, 0.0), (3935, 0.0), (3936, 0.009749677194084993), (3937, 0.0), (3938, 0.0), (3939, 0.0), (3940, 0.0), (3941, 0.006325740284170914), (3942, 0.05029056778365431), (3943, 0.007357159643912642), (3944, 0.01607514046943676), (3945, 0.0069131373076833195), (3946, 0.0), (3947, 0.0), (3948, 0.0), (3949, 0.0), (3950, 0.0), (3951, 0.0), (3952, 0.0), (3953, 0.0), (3954, 0.0), (3955, 0.0), (3956, 0.0), (3957, 0.01662032637705685), (3958, 0.0), (3959, 0.052098402658935374), (3960, 0.019148862223027925), (3961, 0.0), (3962, 0.006279916499525934), (3963, 0.0), (3964, 0.0), (3965, 0.0), (3966, 0.01270289352031214), (3967, 0.0), (3968, 0.0), (3969, 0.0), (3970, 0.0), (3971, 0.0), (3972, 0.01790947461436618), (3973, 0.0), (3974, 0.03146045335310872), (3975, 0.0), (3976, 0.01107157276871722), (3977, 0.0), (3978, 0.0), (3979, 0.0), (3980, 0.0), (3981, 0.0), (3982, 0.005871756501002994), (3983, 0.0), (3984, 0.0), (3985, 0.017802602100464894), (3986, 0.0), (3987, 0.019699146102083287), (3988, 0.03299057710013359), (3989, 0.0), (3990, 0.0), (3991, 0.0), (3992, 0.0), (3993, 0.006931949666621291), (3994, 0.0), (3995, 0.0), (3996, 0.0), (3997, 0.0), (3998, 0.0), (3999, 0.0), (4000, 0.0), (4001, 0.0), (4002, 0.0), (4003, 0.03193233399648346), (4004, 0.006790860538396649), (4005, 0.0), (4006, 0.0), (4007, 0.0), (4008, 0.0), (4009, 0.0), (4010, 0.028743739051288728), (4011, 0.0), (4012, 0.005708530435771738), (4013, 0.02085508996536353), (4014, 0.0), (4015, 0.0), (4016, 0.0), (4017, 0.015013390057686902), (4018, 0.0), (4019, 0.0), (4020, 0.022871553883285333), (4021, 0.0), (4022, 0.0), (4023, 0.0), (4024, 0.0), (4025, 0.0), (4026, 0.0), (4027, 0.0), (4028, 0.0), (4029, 0.0), (4030, 0.0), (4031, 0.0), (4032, 0.0), (4033, 0.0175141334636595), (4034, 0.0), (4035, 0.0), (4036, 0.0), (4037, 0.0), (4038, 0.0), (4039, 0.0), (4040, 0.0), (4041, 0.0), (4042, 0.006220618780414479), (4043, 0.0), (4044, 0.0), (4045, 0.0), (4046, 0.0), (4047, 0.0), (4048, 0.0), (4049, 0.0), (4050, 0.0), (4051, 0.0), (4052, 0.015344990453913954), (4053, 0.0), (4054, 0.0), (4055, 0.0), (4056, 0.0), (4057, 0.0), (4058, 0.025323139543022528), (4059, 0.0), (4060, 0.0), (4061, 0.006554822547333219), (4062, 0.0), (4063, 0.010342744025711554), (4064, 0.0), (4065, 0.0), (4066, 0.0), (4067, 0.0), (4068, 0.0), (4069, 0.0), (4070, 0.0), (4071, 0.004920705412298168), (4072, 0.04368255286455296), (4073, 0.024066977452991842), (4074, 0.0), (4075, 0.0), (4076, 0.011038508971451094), (4077, 0.005185661483148606), (4078, 0.004951448257217837), (4079, 0.009959894062545023), (4080, 0.0), (4081, 0.0), (4082, 0.02767539287277747), (4083, 0.013514209403210593), (4084, 0.0), (4085, 0.0), (4086, 0.0), (4087, 0.014934453213901916), (4088, 0.0), (4089, 0.0), (4090, 0.00943532227625056), (4091, 0.0), (4092, 0.0), (4093, 0.006336953846638462), (4094, 0.0), (4095, 0.0), (4096, 0.0), (4097, 0.0), (4098, 0.009154008588773133), (4099, 0.00998895590859595), (4100, 0.010822420904399182), (4101, 0.0), (4102, 0.0), (4103, 0.01552352523231821), (4104, 0.0), (4105, 0.0), (4106, 0.0), (4107, 0.0), (4108, 0.0), (4109, 0.016692280339168874), (4110, 0.0), (4111, 0.007086230472737075), (4112, 0.0), (4113, 0.0), (4114, 0.0056842994616322215), (4115, 0.0), (4116, 0.0), (4117, 0.0062792705496913835), (4118, 0.0), (4119, 0.0), (4120, 0.0), (4121, 0.0), (4122, 0.0), (4123, 0.0), (4124, 0.006744122256299643), (4125, 0.0), (4126, 0.0), (4127, 0.013718597673573033), (4128, 0.0), (4129, 0.006553709789824023), (4130, 0.024974512183922146), (4131, 0.0), (4132, 0.0), (4133, 0.0), (4134, 0.014965341367779236), (4135, 0.04612930690066952), (4136, 0.0), (4137, 0.0), (4138, 0.0), (4139, 0.010566421993150924), (4140, 0.0), (4141, 0.0), (4142, 0.0), (4143, 0.0068412604479168694), (4144, 0.008775345263626607), (4145, 0.0), (4146, 0.005890129262334647), (4147, 0.0), (4148, 0.0), (4149, 0.0), (4150, 0.028526844822745406), (4151, 0.0), (4152, 0.0), (4153, 0.0), (4154, 0.0), (4155, 0.005976970291034002), (4156, 0.0), (4157, 0.028215625803591736), (4158, 0.0), (4159, 0.010597793186849386), (4160, 0.0), (4161, 0.021568501125995537), (4162, 0.04123599643871248), (4163, 0.0), (4164, 0.011077650329664412), (4165, 0.0), (4166, 0.0), (4167, 0.016702181676030006), (4168, 0.0), (4169, 0.0), (4170, 0.0), (4171, 0.0), (4172, 0.0), (4173, 0.0), (4174, 0.00788576674462536), (4175, 0.0), (4176, 0.004371891835567124), (4177, 0.0), (4178, 0.0), (4179, 0.0), (4180, 0.01653978907020636), (4181, 0.0), (4182, 0.0), (4183, 0.0), (4184, 0.013819269906972341), (4185, 0.05145695598413191), (4186, 0.0), (4187, 0.006661518461385336), (4188, 0.0), (4189, 0.01811146157558895), (4190, 0.0), (4191, 0.014467672948644178), (4192, 0.0), (4193, 0.00485451592236339), (4194, 0.0), (4195, 0.01049342306188234), (4196, 0.030610910812399188), (4197, 0.0), (4198, 0.0), (4199, 0.0), (4200, 0.01806720301157116), (4201, 0.0), (4202, 0.0), (4203, 0.0), (4204, 0.0), (4205, 0.012337737804636702), (4206, 0.0), (4207, 0.0), (4208, 0.0), (4209, 0.008874324181897554), (4210, 0.0), (4211, 0.03553830164659154), (4212, 0.0), (4213, 0.0), (4214, 0.01512626529327258), (4215, 0.0), (4216, 0.0), (4217, 0.0), (4218, 0.0), (4219, 0.0), (4220, 0.005420944263561641), (4221, 0.0), (4222, 0.0), (4223, 0.024384746867218067), (4224, 0.0), (4225, 0.03793927671273237), (4226, 0.008909274648084844), (4227, 0.0), (4228, 0.015319495189617983), (4229, 0.0), (4230, 0.017270837281969223), (4231, 0.018010788232451756), (4232, 0.0), (4233, 0.007714852400281757), (4234, 0.0), (4235, 0.0), (4236, 0.0), (4237, 0.0), (4238, 0.0), (4239, 0.0), (4240, 0.0), (4241, 0.0), (4242, 0.0), (4243, 0.0), (4244, 0.0), (4245, 0.03865978214369441), (4246, 0.01570270958034035), (4247, 0.0), (4248, 0.0), (4249, 0.014721736225464969), (4250, 0.0), (4251, 0.0), (4252, 0.0516021870757331), (4253, 0.0), (4254, 0.0), (4255, 0.0), (4256, 0.007618393172650625), (4257, 0.0), (4258, 0.007221637320566779), (4259, 0.0), (4260, 0.0), (4261, 0.00913616640341851), (4262, 0.0), (4263, 0.0), (4264, 0.0), (4265, 0.009815520505996697), (4266, 0.0), (4267, 0.014145862221185999), (4268, 0.0), (4269, 0.0), (4270, 0.0), (4271, 0.0), (4272, 0.0), (4273, 0.0), (4274, 0.03087179904865859), (4275, 0.0), (4276, 0.0), (4277, 0.007988869237810281), (4278, 0.0), (4279, 0.0), (4280, 0.0), (4281, 0.0), (4282, 0.0), (4283, 0.0), (4284, 0.0), (4285, 0.017729526108490583), (4286, 0.0), (4287, 0.008776392780093926), (4288, 0.0), (4289, 0.0), (4290, 0.0), (4291, 0.0), (4292, 0.02756014989524559), (4293, 0.0), (4294, 0.0), (4295, 0.0), (4296, 0.0), (4297, 0.0), (4298, 0.023735607158287514), (4299, 0.0), (4300, 0.011284173212683268), (4301, 0.0), (4302, 0.0), (4303, 0.0), (4304, 0.0), (4305, 0.0), (4306, 0.0), (4307, 0.0), (4308, 0.0), (4309, 0.0), (4310, 0.009677190553883401), (4311, 0.0), (4312, 0.0038197167494885974), (4313, 0.0), (4314, 0.0), (4315, 0.0052760591072921375), (4316, 0.0055672845739994), (4317, 0.0), (4318, 0.0), (4319, 0.0), (4320, 0.0), (4321, 0.0), (4322, 0.0), (4323, 0.0), (4324, 0.0), (4325, 0.0), (4326, 0.012867614117759874), (4327, 0.0), (4328, 0.0), (4329, 0.015467048247885685), (4330, 0.0), (4331, 0.0), (4332, 0.0), (4333, 0.014941389285896155), (4334, 0.0), (4335, 0.0), (4336, 0.0), (4337, 0.008937623521921822), (4338, 0.0), (4339, 0.005435801322786523), (4340, 0.0), (4341, 0.0), (4342, 0.0), (4343, 0.0), (4344, 0.005145784361937438), (4345, 0.02499865935765854), (4346, 0.0), (4347, 0.0), (4348, 0.0), (4349, 0.006049400340292424), (4350, 0.0), (4351, 0.005641319743376267), (4352, 0.0), (4353, 0.005497664582113111), (4354, 0.0), (4355, 0.0), (4356, 0.021805881454958213), (4357, 0.01993991286919522), (4358, 0.0), (4359, 0.0), (4360, 0.0), (4361, 0.019643557103853366), (4362, 0.0), (4363, 0.0), (4364, 0.0), (4365, 0.042860465121523944), (4366, 0.0), (4367, 0.0), (4368, 0.0), (4369, 0.0), (4370, 0.013297232354516783), (4371, 0.0), (4372, 0.010525465005744852), (4373, 0.015895553759380062), (4374, 0.0), (4375, 0.0), (4376, 0.0), (4377, 0.011340601864048592), (4378, 0.0), (4379, 0.0), (4380, 0.0), (4381, 0.0), (4382, 0.0), (4383, 0.020801102599405125), (4384, 0.0), (4385, 0.0), (4386, 0.0), (4387, 0.0), (4388, 0.015134984928853597), (4389, 0.0), (4390, 0.0), (4391, 0.0), (4392, 0.038118738231942145), (4393, 0.02757601245583226), (4394, 0.0), (4395, 0.007871648176431644), (4396, 0.0), (4397, 0.0556048947730997), (4398, 0.0), (4399, 0.0), (4400, 0.0), (4401, 0.03107679998410461), (4402, 0.005120385967006956), (4403, 0.040648875919569054), (4404, 0.008904720920623948), (4405, 0.0), (4406, 0.026518876702717548), (4407, 0.0), (4408, 0.020484280038030232), (4409, 0.0), (4410, 0.0), (4411, 0.0), (4412, 0.0), (4413, 0.0), (4414, 0.0), (4415, 0.0), (4416, 0.0), (4417, 0.0), (4418, 0.0), (4419, 0.0), (4420, 0.0), (4421, 0.0), (4422, 0.0), (4423, 0.01868729539274253), (4424, 0.0), (4425, 0.006773850721148763), (4426, 0.0), (4427, 0.0), (4428, 0.0), (4429, 0.0), (4430, 0.0), (4431, 0.0), (4432, 0.009648278652201647), (4433, 0.038794600728273516), (4434, 0.0), (4435, 0.0), (4436, 0.0), (4437, 0.017414577338930676), (4438, 0.0), (4439, 0.0), (4440, 0.0), (4441, 0.0), (4442, 0.0), (4443, 0.0), (4444, 0.0), (4445, 0.0), (4446, 0.0), (4447, 0.0), (4448, 0.03233454953922278), (4449, 0.012031014918975968), (4450, 0.007922505172107927), (4451, 0.048570300795563404), (4452, 0.0), (4453, 0.0), (4454, 0.0), (4455, 0.0), (4456, 0.0), (4457, 0.0), (4458, 0.0), (4459, 0.0), (4460, 0.006683794412220981), (4461, 0.0), (4462, 0.0), (4463, 0.02611302811274673), (4464, 0.0), (4465, 0.006269510686636613), (4466, 0.0), (4467, 0.06996157954675641), (4468, 0.0), (4469, 0.0), (4470, 0.0), (4471, 0.0), (4472, 0.0), (4473, 0.0), (4474, 0.0), (4475, 0.0), (4476, 0.0), (4477, 0.0), (4478, 0.0), (4479, 0.0), (4480, 0.0), (4481, 0.03372500862954694), (4482, 0.012212030739108733), (4483, 0.0), (4484, 0.01028020670181525), (4485, 0.0), (4486, 0.0), (4487, 0.005974568220234487), (4488, 0.01162990210781737), (4489, 0.036262589099037415), (4490, 0.0), (4491, 0.0), (4492, 0.0), (4493, 0.0), (4494, 0.0), (4495, 0.0), (4496, 0.019591965532120618), (4497, 0.0), (4498, 0.0), (4499, 0.008263530057300166), (4500, 0.0), (4501, 0.0), (4502, 0.012674338602040185), (4503, 0.0), (4504, 0.0), (4505, 0.0), (4506, 0.03757171282641466), (4507, 0.0181952205385983), (4508, 0.0), (4509, 0.0), (4510, 0.0), (4511, 0.0), (4512, 0.0), (4513, 0.0), (4514, 0.0), (4515, 0.0), (4516, 0.0), (4517, 0.0), (4518, 0.021780310756444692), (4519, 0.0), (4520, 0.0), (4521, 0.0), (4522, 0.0), (4523, 0.0), (4524, 0.0), (4525, 0.0), (4526, 0.013756879341406366), (4527, 0.0), (4528, 0.010551397393624599), (4529, 0.05519602468116802), (4530, 0.0), (4531, 0.012093584657828796), (4532, 0.0), (4533, 0.0), (4534, 0.0), (4535, 0.00471622966201958), (4536, 0.0), (4537, 0.018974498652077308), (4538, 0.0), (4539, 0.0), (4540, 0.0), (4541, 0.0), (4542, 0.0), (4543, 0.0), (4544, 0.0), (4545, 0.0), (4546, 0.04450727983866329), (4547, 0.04391217850430247), (4548, 0.0), (4549, 0.0061751550571840265), (4550, 0.0), (4551, 0.0), (4552, 0.0), (4553, 0.0), (4554, 0.0067405024354408195), (4555, 0.018685682245923027), (4556, 0.011406547081690152), (4557, 0.0), (4558, 0.015529701410538338), (4559, 0.02003332423985158), (4560, 0.020582081127031308), (4561, 0.0), (4562, 0.0), (4563, 0.03725214002340043), (4564, 0.0), (4565, 0.006238962147247685), (4566, 0.0), (4567, 0.0), (4568, 0.0), (4569, 0.0), (4570, 0.0), (4571, 0.0), (4572, 0.0), (4573, 0.0), (4574, 0.0), (4575, 0.0), (4576, 0.009766603845025871), (4577, 0.0), (4578, 0.0), (4579, 0.018308380550109443), (4580, 0.0), (4581, 0.0), (4582, 0.0), (4583, 0.0), (4584, 0.0), (4585, 0.0), (4586, 0.0), (4587, 0.0), (4588, 0.0), (4589, 0.0), (4590, 0.0), (4591, 0.0), (4592, 0.0), (4593, 0.0), (4594, 0.0), (4595, 0.0), (4596, 0.0), (4597, 0.0), (4598, 0.0), (4599, 0.006909909373661372), (4600, 0.0), (4601, 0.0), (4602, 0.0), (4603, 0.0), (4604, 0.0), (4605, 0.0), (4606, 0.0), (4607, 0.0), (4608, 0.021878639032527823), (4609, 0.0), (4610, 0.0), (4611, 0.0), (4612, 0.0), (4613, 0.02628263150226732), (4614, 0.0), (4615, 0.017070467815209506), (4616, 0.0), (4617, 0.0), (4618, 0.0), (4619, 0.0), (4620, 0.006790834956272637), (4621, 0.006789899314725297), (4622, 0.0), (4623, 0.03911071463247789), (4624, 0.04681917805909107), (4625, 0.016689004719252776), (4626, 0.0), (4627, 0.0), (4628, 0.0), (4629, 0.0), (4630, 0.039338419994381923), (4631, 0.015607740019250626), (4632, 0.0), (4633, 0.0), (4634, 0.011118269429325492), (4635, 0.0), (4636, 0.016480593444544757), (4637, 0.0), (4638, 0.012094705858049025), (4639, 0.0), (4640, 0.0), (4641, 0.0), (4642, 0.0), (4643, 0.0), (4644, 0.03465323024317435), (4645, 0.0), (4646, 0.0), (4647, 0.0), (4648, 0.0), (4649, 0.0), (4650, 0.0), (4651, 0.021105814164310524), (4652, 0.0), (4653, 0.0), (4654, 0.0072408229282801585), (4655, 0.0), (4656, 0.010537049123530403), (4657, 0.0), (4658, 0.0), (4659, 0.016347884656585744), (4660, 0.0), (4661, 0.0), (4662, 0.0), (4663, 0.0), (4664, 0.006690121815212387), (4665, 0.024379217237093766), (4666, 0.0), (4667, 0.0), (4668, 0.0), (4669, 0.015901942287606524), (4670, 0.005944516278851988), (4671, 0.0), (4672, 0.0), (4673, 0.01918686207136434), (4674, 0.0), (4675, 0.015614295567081278), (4676, 0.0), (4677, 0.0), (4678, 0.024729257590984245), (4679, 0.0), (4680, 0.012051321303083624), (4681, 0.0), (4682, 0.0), (4683, 0.0), (4684, 0.0), (4685, 0.0), (4686, 0.0), (4687, 0.0), (4688, 0.01573623702761326), (4689, 0.0), (4690, 0.0), (4691, 0.0), (4692, 0.0), (4693, 0.0), (4694, 0.0), (4695, 0.0), (4696, 0.029902223967741424), (4697, 0.0), (4698, 0.0), (4699, 0.0), (4700, 0.0), (4701, 0.004479801124211181), (4702, 0.019269622661728554), (4703, 0.0), (4704, 0.0), (4705, 0.0525059012013782), (4706, 0.0417981834259008), (4707, 0.0), (4708, 0.008999519286292062), (4709, 0.0), (4710, 0.0), (4711, 0.0), (4712, 0.0), (4713, 0.0), (4714, 0.0), (4715, 0.0), (4716, 0.0), (4717, 0.0), (4718, 0.015341526672367958), (4719, 0.0), (4720, 0.0), (4721, 0.0), (4722, 0.0), (4723, 0.0), (4724, 0.0), (4725, 0.0), (4726, 0.0), (4727, 0.004996552591510959), (4728, 0.014781696202697116), (4729, 0.0), (4730, 0.0), (4731, 0.0), (4732, 0.0), (4733, 0.009556052515694653), (4734, 0.007084356478477375), (4735, 0.008514558374075809), (4736, 0.0), (4737, 0.0), (4738, 0.0), (4739, 0.0), (4740, 0.0), (4741, 0.0), (4742, 0.0), (4743, 0.0), (4744, 0.0), (4745, 0.0), (4746, 0.0), (4747, 0.0), (4748, 0.0), (4749, 0.013518819219977473), (4750, 0.0), (4751, 0.0), (4752, 0.013679493267031882), (4753, 0.0), (4754, 0.0), (4755, 0.10980123727190974), (4756, 0.0), (4757, 0.0), (4758, 0.0), (4759, 0.0), (4760, 0.01630222598920601), (4761, 0.0), (4762, 0.0), (4763, 0.0), (4764, 0.0), (4765, 0.024686119745457254), (4766, 0.039631756327841466), (4767, 0.0), (4768, 0.0), (4769, 0.008605252343627296), (4770, 0.0), (4771, 0.0), (4772, 0.016042263458862435), (4773, 0.0), (4774, 0.0), (4775, 0.0), (4776, 0.0), (4777, 0.0), (4778, 0.016888716718781616), (4779, 0.0), (4780, 0.011911763281240302), (4781, 0.0), (4782, 0.0), (4783, 0.0), (4784, 0.0), (4785, 0.0), (4786, 0.0), (4787, 0.0), (4788, 0.0), (4789, 0.0), (4790, 0.0), (4791, 0.0), (4792, 0.009783458493783929), (4793, 0.02946381004106426), (4794, 0.0), (4795, 0.03501490857154764), (4796, 0.03260209241232868), (4797, 0.0), (4798, 0.037419876207549815), (4799, 0.0), (4800, 0.026100607019644242), (4801, 0.0), (4802, 0.0)]\n"
     ]
    }
   ],
   "source": [
    "similarity_score = list(enumerate(similarity[index_of_the_movie]))\n",
    "print(similarity_score)"
   ]
  },
  {
   "cell_type": "code",
   "execution_count": 23,
   "id": "904affc7",
   "metadata": {},
   "outputs": [
    {
     "data": {
      "text/plain": [
       "4803"
      ]
     },
     "execution_count": 23,
     "metadata": {},
     "output_type": "execute_result"
    }
   ],
   "source": [
    "len(similarity_score)"
   ]
  },
  {
   "cell_type": "markdown",
   "id": "8738d608",
   "metadata": {},
   "source": [
    "##### Sorting the movies based on their similarity score"
   ]
  },
  {
   "cell_type": "code",
   "execution_count": 24,
   "id": "a28f067f",
   "metadata": {},
   "outputs": [
    {
     "data": {
      "text/plain": [
       "[(99, 1.0000000000000002),\n",
       " (204, 0.276900524076274),\n",
       " (44, 0.20196381245634032),\n",
       " (500, 0.19825196720147534),\n",
       " (405, 0.1596718461166355),\n",
       " (568, 0.15055172376612022),\n",
       " (629, 0.13454751307918641),\n",
       " (2541, 0.13444456097889013),\n",
       " (3142, 0.1286725213464638),\n",
       " (566, 0.12273310242688143)]"
      ]
     },
     "execution_count": 24,
     "metadata": {},
     "output_type": "execute_result"
    }
   ],
   "source": [
    "sorted_similar_movies=sorted(similarity_score, key=lambda x:x[1],reverse=True)\n",
    "sorted_similar_movies[:10]"
   ]
  },
  {
   "cell_type": "markdown",
   "id": "a227117e",
   "metadata": {},
   "source": [
    "##### Suggesting Top 10 Movies related to the movie entered by the user"
   ]
  },
  {
   "cell_type": "code",
   "execution_count": 25,
   "id": "2f859569",
   "metadata": {},
   "outputs": [
    {
     "name": "stdout",
     "output_type": "stream",
     "text": [
      "Movies suggested for you : \n",
      "\n",
      "1 . The Fast and the Furious\n",
      "2 . Fast Five\n",
      "3 . Furious 7\n",
      "4 . 2 Fast 2 Furious\n",
      "5 . The Fast and the Furious: Tokyo Drift\n",
      "6 . xXx\n",
      "7 . Need for Speed\n",
      "8 . The Faculty\n",
      "9 . American Heist\n",
      "10 . Cars\n"
     ]
    }
   ],
   "source": [
    "print('Movies suggested for you : \\n')\n",
    "i = 1\n",
    "for movie in sorted_similar_movies:\n",
    "    index = movie[0]\n",
    "    title_from_index = movies_data[movies_data.index==index]['title'].values[0]\n",
    "    if (i<11):\n",
    "        print(i, '.',title_from_index)\n",
    "        i+=1"
   ]
  }
 ],
 "metadata": {
  "kernelspec": {
   "display_name": "Python 3 (ipykernel)",
   "language": "python",
   "name": "python3"
  },
  "language_info": {
   "codemirror_mode": {
    "name": "ipython",
    "version": 3
   },
   "file_extension": ".py",
   "mimetype": "text/x-python",
   "name": "python",
   "nbconvert_exporter": "python",
   "pygments_lexer": "ipython3",
   "version": "3.11.8"
  }
 },
 "nbformat": 4,
 "nbformat_minor": 5
}
